{
 "cells": [
  {
   "cell_type": "code",
   "execution_count": 1,
   "id": "81c17812-084b-444d-a7f2-db21aae5cfdf",
   "metadata": {},
   "outputs": [],
   "source": [
    "import pandas as pd\n",
    "import numpy as np\n",
    "import matplotlib.pyplot as plt\n",
    "import seaborn as sns\n",
    "from sklearn.model_selection import train_test_split\n",
    "from sklearn.linear_model import LinearRegression\n",
    "from sklearn.metrics import mean_squared_error\n",
    "from sklearn.preprocessing import MinMaxScaler, StandardScaler # for normalizing numeric data with ration\n",
    "from prophet import Prophet"
   ]
  },
  {
   "cell_type": "code",
   "execution_count": 56,
   "id": "1ef32fdc-4d40-48cf-9dcc-ccd71ca8bd19",
   "metadata": {},
   "outputs": [],
   "source": [
    "worldmeter = pd.read_csv(r\"C:\\Users\\Emanuel\\Desktop\\Omolola\\python class\\3mtt\\capstone project\\worldometer_data.csv\")"
   ]
  },
  {
   "cell_type": "code",
   "execution_count": 3,
   "id": "ff143c09-9985-4e66-84fb-08764e911d11",
   "metadata": {},
   "outputs": [],
   "source": [
    "usa_country = pd.read_csv(r\"C:\\Users\\Emanuel\\Desktop\\Omolola\\python class\\3mtt\\capstone project\\usa_county_wise.csv\")"
   ]
  },
  {
   "cell_type": "code",
   "execution_count": 4,
   "id": "34a41d30-882e-43ff-8691-abb42a3c3ebb",
   "metadata": {},
   "outputs": [],
   "source": [
    "covid_19 = pd.read_csv(r\"C:\\Users\\Emanuel\\Desktop\\Omolola\\python class\\3mtt\\capstone project\\covid_19_clean_complete.csv\")"
   ]
  },
  {
   "cell_type": "code",
   "execution_count": 60,
   "id": "4a959c34-eced-4502-a528-0dc2e23519cb",
   "metadata": {},
   "outputs": [
    {
     "data": {
      "text/html": [
       "<div>\n",
       "<style scoped>\n",
       "    .dataframe tbody tr th:only-of-type {\n",
       "        vertical-align: middle;\n",
       "    }\n",
       "\n",
       "    .dataframe tbody tr th {\n",
       "        vertical-align: top;\n",
       "    }\n",
       "\n",
       "    .dataframe thead th {\n",
       "        text-align: right;\n",
       "    }\n",
       "</style>\n",
       "<table border=\"1\" class=\"dataframe\">\n",
       "  <thead>\n",
       "    <tr style=\"text-align: right;\">\n",
       "      <th></th>\n",
       "      <th>Country/Region</th>\n",
       "      <th>Continent</th>\n",
       "      <th>Population</th>\n",
       "      <th>TotalCases</th>\n",
       "      <th>NewCases</th>\n",
       "      <th>TotalDeaths</th>\n",
       "      <th>NewDeaths</th>\n",
       "      <th>TotalRecovered</th>\n",
       "      <th>NewRecovered</th>\n",
       "      <th>ActiveCases</th>\n",
       "      <th>Serious,Critical</th>\n",
       "      <th>Tot Cases/1M pop</th>\n",
       "      <th>Deaths/1M pop</th>\n",
       "      <th>TotalTests</th>\n",
       "      <th>Tests/1M pop</th>\n",
       "      <th>WHO Region</th>\n",
       "    </tr>\n",
       "  </thead>\n",
       "  <tbody>\n",
       "    <tr>\n",
       "      <th>0</th>\n",
       "      <td>USA</td>\n",
       "      <td>North America</td>\n",
       "      <td>3.311981e+08</td>\n",
       "      <td>5032179</td>\n",
       "      <td>NaN</td>\n",
       "      <td>162804.0</td>\n",
       "      <td>NaN</td>\n",
       "      <td>2576668.0</td>\n",
       "      <td>NaN</td>\n",
       "      <td>2292707.0</td>\n",
       "      <td>18296.0</td>\n",
       "      <td>15194.0</td>\n",
       "      <td>492.0</td>\n",
       "      <td>63139605.0</td>\n",
       "      <td>190640.0</td>\n",
       "      <td>Americas</td>\n",
       "    </tr>\n",
       "    <tr>\n",
       "      <th>1</th>\n",
       "      <td>Brazil</td>\n",
       "      <td>South America</td>\n",
       "      <td>2.127107e+08</td>\n",
       "      <td>2917562</td>\n",
       "      <td>NaN</td>\n",
       "      <td>98644.0</td>\n",
       "      <td>NaN</td>\n",
       "      <td>2047660.0</td>\n",
       "      <td>NaN</td>\n",
       "      <td>771258.0</td>\n",
       "      <td>8318.0</td>\n",
       "      <td>13716.0</td>\n",
       "      <td>464.0</td>\n",
       "      <td>13206188.0</td>\n",
       "      <td>62085.0</td>\n",
       "      <td>Americas</td>\n",
       "    </tr>\n",
       "    <tr>\n",
       "      <th>2</th>\n",
       "      <td>India</td>\n",
       "      <td>Asia</td>\n",
       "      <td>1.381345e+09</td>\n",
       "      <td>2025409</td>\n",
       "      <td>NaN</td>\n",
       "      <td>41638.0</td>\n",
       "      <td>NaN</td>\n",
       "      <td>1377384.0</td>\n",
       "      <td>NaN</td>\n",
       "      <td>606387.0</td>\n",
       "      <td>8944.0</td>\n",
       "      <td>1466.0</td>\n",
       "      <td>30.0</td>\n",
       "      <td>22149351.0</td>\n",
       "      <td>16035.0</td>\n",
       "      <td>South-EastAsia</td>\n",
       "    </tr>\n",
       "    <tr>\n",
       "      <th>3</th>\n",
       "      <td>Russia</td>\n",
       "      <td>Europe</td>\n",
       "      <td>1.459409e+08</td>\n",
       "      <td>871894</td>\n",
       "      <td>NaN</td>\n",
       "      <td>14606.0</td>\n",
       "      <td>NaN</td>\n",
       "      <td>676357.0</td>\n",
       "      <td>NaN</td>\n",
       "      <td>180931.0</td>\n",
       "      <td>2300.0</td>\n",
       "      <td>5974.0</td>\n",
       "      <td>100.0</td>\n",
       "      <td>29716907.0</td>\n",
       "      <td>203623.0</td>\n",
       "      <td>Europe</td>\n",
       "    </tr>\n",
       "    <tr>\n",
       "      <th>4</th>\n",
       "      <td>South Africa</td>\n",
       "      <td>Africa</td>\n",
       "      <td>5.938157e+07</td>\n",
       "      <td>538184</td>\n",
       "      <td>NaN</td>\n",
       "      <td>9604.0</td>\n",
       "      <td>NaN</td>\n",
       "      <td>387316.0</td>\n",
       "      <td>NaN</td>\n",
       "      <td>141264.0</td>\n",
       "      <td>539.0</td>\n",
       "      <td>9063.0</td>\n",
       "      <td>162.0</td>\n",
       "      <td>3149807.0</td>\n",
       "      <td>53044.0</td>\n",
       "      <td>Africa</td>\n",
       "    </tr>\n",
       "    <tr>\n",
       "      <th>...</th>\n",
       "      <td>...</td>\n",
       "      <td>...</td>\n",
       "      <td>...</td>\n",
       "      <td>...</td>\n",
       "      <td>...</td>\n",
       "      <td>...</td>\n",
       "      <td>...</td>\n",
       "      <td>...</td>\n",
       "      <td>...</td>\n",
       "      <td>...</td>\n",
       "      <td>...</td>\n",
       "      <td>...</td>\n",
       "      <td>...</td>\n",
       "      <td>...</td>\n",
       "      <td>...</td>\n",
       "      <td>...</td>\n",
       "    </tr>\n",
       "    <tr>\n",
       "      <th>204</th>\n",
       "      <td>Montserrat</td>\n",
       "      <td>North America</td>\n",
       "      <td>4.992000e+03</td>\n",
       "      <td>13</td>\n",
       "      <td>NaN</td>\n",
       "      <td>1.0</td>\n",
       "      <td>NaN</td>\n",
       "      <td>10.0</td>\n",
       "      <td>NaN</td>\n",
       "      <td>2.0</td>\n",
       "      <td>NaN</td>\n",
       "      <td>2604.0</td>\n",
       "      <td>200.0</td>\n",
       "      <td>61.0</td>\n",
       "      <td>12220.0</td>\n",
       "      <td>NaN</td>\n",
       "    </tr>\n",
       "    <tr>\n",
       "      <th>205</th>\n",
       "      <td>Caribbean Netherlands</td>\n",
       "      <td>North America</td>\n",
       "      <td>2.624700e+04</td>\n",
       "      <td>13</td>\n",
       "      <td>NaN</td>\n",
       "      <td>NaN</td>\n",
       "      <td>NaN</td>\n",
       "      <td>7.0</td>\n",
       "      <td>NaN</td>\n",
       "      <td>6.0</td>\n",
       "      <td>NaN</td>\n",
       "      <td>495.0</td>\n",
       "      <td>NaN</td>\n",
       "      <td>424.0</td>\n",
       "      <td>16154.0</td>\n",
       "      <td>NaN</td>\n",
       "    </tr>\n",
       "    <tr>\n",
       "      <th>206</th>\n",
       "      <td>Falkland Islands</td>\n",
       "      <td>South America</td>\n",
       "      <td>3.489000e+03</td>\n",
       "      <td>13</td>\n",
       "      <td>NaN</td>\n",
       "      <td>NaN</td>\n",
       "      <td>NaN</td>\n",
       "      <td>13.0</td>\n",
       "      <td>NaN</td>\n",
       "      <td>0.0</td>\n",
       "      <td>NaN</td>\n",
       "      <td>3726.0</td>\n",
       "      <td>NaN</td>\n",
       "      <td>1816.0</td>\n",
       "      <td>520493.0</td>\n",
       "      <td>NaN</td>\n",
       "    </tr>\n",
       "    <tr>\n",
       "      <th>207</th>\n",
       "      <td>Vatican City</td>\n",
       "      <td>Europe</td>\n",
       "      <td>8.010000e+02</td>\n",
       "      <td>12</td>\n",
       "      <td>NaN</td>\n",
       "      <td>NaN</td>\n",
       "      <td>NaN</td>\n",
       "      <td>12.0</td>\n",
       "      <td>NaN</td>\n",
       "      <td>0.0</td>\n",
       "      <td>NaN</td>\n",
       "      <td>14981.0</td>\n",
       "      <td>NaN</td>\n",
       "      <td>NaN</td>\n",
       "      <td>NaN</td>\n",
       "      <td>Europe</td>\n",
       "    </tr>\n",
       "    <tr>\n",
       "      <th>208</th>\n",
       "      <td>Western Sahara</td>\n",
       "      <td>Africa</td>\n",
       "      <td>5.986820e+05</td>\n",
       "      <td>10</td>\n",
       "      <td>NaN</td>\n",
       "      <td>1.0</td>\n",
       "      <td>NaN</td>\n",
       "      <td>8.0</td>\n",
       "      <td>NaN</td>\n",
       "      <td>1.0</td>\n",
       "      <td>NaN</td>\n",
       "      <td>17.0</td>\n",
       "      <td>2.0</td>\n",
       "      <td>NaN</td>\n",
       "      <td>NaN</td>\n",
       "      <td>Africa</td>\n",
       "    </tr>\n",
       "  </tbody>\n",
       "</table>\n",
       "<p>209 rows × 16 columns</p>\n",
       "</div>"
      ],
      "text/plain": [
       "            Country/Region      Continent    Population  TotalCases  NewCases  \\\n",
       "0                      USA  North America  3.311981e+08     5032179       NaN   \n",
       "1                   Brazil  South America  2.127107e+08     2917562       NaN   \n",
       "2                    India           Asia  1.381345e+09     2025409       NaN   \n",
       "3                   Russia         Europe  1.459409e+08      871894       NaN   \n",
       "4             South Africa         Africa  5.938157e+07      538184       NaN   \n",
       "..                     ...            ...           ...         ...       ...   \n",
       "204             Montserrat  North America  4.992000e+03          13       NaN   \n",
       "205  Caribbean Netherlands  North America  2.624700e+04          13       NaN   \n",
       "206       Falkland Islands  South America  3.489000e+03          13       NaN   \n",
       "207           Vatican City         Europe  8.010000e+02          12       NaN   \n",
       "208         Western Sahara         Africa  5.986820e+05          10       NaN   \n",
       "\n",
       "     TotalDeaths  NewDeaths  TotalRecovered  NewRecovered  ActiveCases  \\\n",
       "0       162804.0        NaN       2576668.0           NaN    2292707.0   \n",
       "1        98644.0        NaN       2047660.0           NaN     771258.0   \n",
       "2        41638.0        NaN       1377384.0           NaN     606387.0   \n",
       "3        14606.0        NaN        676357.0           NaN     180931.0   \n",
       "4         9604.0        NaN        387316.0           NaN     141264.0   \n",
       "..           ...        ...             ...           ...          ...   \n",
       "204          1.0        NaN            10.0           NaN          2.0   \n",
       "205          NaN        NaN             7.0           NaN          6.0   \n",
       "206          NaN        NaN            13.0           NaN          0.0   \n",
       "207          NaN        NaN            12.0           NaN          0.0   \n",
       "208          1.0        NaN             8.0           NaN          1.0   \n",
       "\n",
       "     Serious,Critical  Tot Cases/1M pop  Deaths/1M pop  TotalTests  \\\n",
       "0             18296.0           15194.0          492.0  63139605.0   \n",
       "1              8318.0           13716.0          464.0  13206188.0   \n",
       "2              8944.0            1466.0           30.0  22149351.0   \n",
       "3              2300.0            5974.0          100.0  29716907.0   \n",
       "4               539.0            9063.0          162.0   3149807.0   \n",
       "..                ...               ...            ...         ...   \n",
       "204               NaN            2604.0          200.0        61.0   \n",
       "205               NaN             495.0            NaN       424.0   \n",
       "206               NaN            3726.0            NaN      1816.0   \n",
       "207               NaN           14981.0            NaN         NaN   \n",
       "208               NaN              17.0            2.0         NaN   \n",
       "\n",
       "     Tests/1M pop      WHO Region  \n",
       "0        190640.0        Americas  \n",
       "1         62085.0        Americas  \n",
       "2         16035.0  South-EastAsia  \n",
       "3        203623.0          Europe  \n",
       "4         53044.0          Africa  \n",
       "..            ...             ...  \n",
       "204       12220.0             NaN  \n",
       "205       16154.0             NaN  \n",
       "206      520493.0             NaN  \n",
       "207           NaN          Europe  \n",
       "208           NaN          Africa  \n",
       "\n",
       "[209 rows x 16 columns]"
      ]
     },
     "execution_count": 60,
     "metadata": {},
     "output_type": "execute_result"
    }
   ],
   "source": [
    "worldmeter # I called the worldmeter dataset"
   ]
  },
  {
   "cell_type": "code",
   "execution_count": 6,
   "id": "a3e81695-fa09-4551-83c7-e678df90ab56",
   "metadata": {},
   "outputs": [],
   "source": [
    "worldmeter = worldmeter.drop(columns=[\"Continent\", \"NewCases\", \"NewDeaths\", \"NewRecovered\"])\n",
    "\n",
    "# I dropped completely three columns that have NaN values throughout"
   ]
  },
  {
   "cell_type": "code",
   "execution_count": 7,
   "id": "a74bac05-65d2-4fea-82ce-398b307d761a",
   "metadata": {},
   "outputs": [
    {
     "data": {
      "text/html": [
       "<div>\n",
       "<style scoped>\n",
       "    .dataframe tbody tr th:only-of-type {\n",
       "        vertical-align: middle;\n",
       "    }\n",
       "\n",
       "    .dataframe tbody tr th {\n",
       "        vertical-align: top;\n",
       "    }\n",
       "\n",
       "    .dataframe thead th {\n",
       "        text-align: right;\n",
       "    }\n",
       "</style>\n",
       "<table border=\"1\" class=\"dataframe\">\n",
       "  <thead>\n",
       "    <tr style=\"text-align: right;\">\n",
       "      <th></th>\n",
       "      <th>Country/Region</th>\n",
       "      <th>Population</th>\n",
       "      <th>TotalCases</th>\n",
       "      <th>TotalDeaths</th>\n",
       "      <th>TotalRecovered</th>\n",
       "      <th>ActiveCases</th>\n",
       "      <th>Serious,Critical</th>\n",
       "      <th>Tot Cases/1M pop</th>\n",
       "      <th>Deaths/1M pop</th>\n",
       "      <th>TotalTests</th>\n",
       "      <th>Tests/1M pop</th>\n",
       "      <th>WHO Region</th>\n",
       "    </tr>\n",
       "  </thead>\n",
       "  <tbody>\n",
       "    <tr>\n",
       "      <th>0</th>\n",
       "      <td>USA</td>\n",
       "      <td>3.311981e+08</td>\n",
       "      <td>5032179</td>\n",
       "      <td>162804.0</td>\n",
       "      <td>2576668.0</td>\n",
       "      <td>2292707.0</td>\n",
       "      <td>18296.0</td>\n",
       "      <td>15194.0</td>\n",
       "      <td>492.0</td>\n",
       "      <td>63139605.0</td>\n",
       "      <td>190640.0</td>\n",
       "      <td>Americas</td>\n",
       "    </tr>\n",
       "    <tr>\n",
       "      <th>1</th>\n",
       "      <td>Brazil</td>\n",
       "      <td>2.127107e+08</td>\n",
       "      <td>2917562</td>\n",
       "      <td>98644.0</td>\n",
       "      <td>2047660.0</td>\n",
       "      <td>771258.0</td>\n",
       "      <td>8318.0</td>\n",
       "      <td>13716.0</td>\n",
       "      <td>464.0</td>\n",
       "      <td>13206188.0</td>\n",
       "      <td>62085.0</td>\n",
       "      <td>Americas</td>\n",
       "    </tr>\n",
       "    <tr>\n",
       "      <th>2</th>\n",
       "      <td>India</td>\n",
       "      <td>1.381345e+09</td>\n",
       "      <td>2025409</td>\n",
       "      <td>41638.0</td>\n",
       "      <td>1377384.0</td>\n",
       "      <td>606387.0</td>\n",
       "      <td>8944.0</td>\n",
       "      <td>1466.0</td>\n",
       "      <td>30.0</td>\n",
       "      <td>22149351.0</td>\n",
       "      <td>16035.0</td>\n",
       "      <td>South-EastAsia</td>\n",
       "    </tr>\n",
       "  </tbody>\n",
       "</table>\n",
       "</div>"
      ],
      "text/plain": [
       "  Country/Region    Population  TotalCases  TotalDeaths  TotalRecovered  \\\n",
       "0            USA  3.311981e+08     5032179     162804.0       2576668.0   \n",
       "1         Brazil  2.127107e+08     2917562      98644.0       2047660.0   \n",
       "2          India  1.381345e+09     2025409      41638.0       1377384.0   \n",
       "\n",
       "   ActiveCases  Serious,Critical  Tot Cases/1M pop  Deaths/1M pop  TotalTests  \\\n",
       "0    2292707.0           18296.0           15194.0          492.0  63139605.0   \n",
       "1     771258.0            8318.0           13716.0          464.0  13206188.0   \n",
       "2     606387.0            8944.0            1466.0           30.0  22149351.0   \n",
       "\n",
       "   Tests/1M pop      WHO Region  \n",
       "0      190640.0        Americas  \n",
       "1       62085.0        Americas  \n",
       "2       16035.0  South-EastAsia  "
      ]
     },
     "execution_count": 7,
     "metadata": {},
     "output_type": "execute_result"
    }
   ],
   "source": [
    "worldmeter.head(3)"
   ]
  },
  {
   "cell_type": "code",
   "execution_count": 8,
   "id": "4d28a015-fbe0-4d93-bb4a-0b6baef8af19",
   "metadata": {},
   "outputs": [
    {
     "data": {
      "text/plain": [
       "Country/Region       0\n",
       "Population           1\n",
       "TotalCases           0\n",
       "TotalDeaths         21\n",
       "TotalRecovered       4\n",
       "ActiveCases          4\n",
       "Serious,Critical    87\n",
       "Tot Cases/1M pop     1\n",
       "Deaths/1M pop       22\n",
       "TotalTests          18\n",
       "Tests/1M pop        18\n",
       "WHO Region          25\n",
       "dtype: int64"
      ]
     },
     "execution_count": 8,
     "metadata": {},
     "output_type": "execute_result"
    }
   ],
   "source": [
    "worldmeter.isnull().sum() # I checked the number of missing values to know what to fill and what to drop"
   ]
  },
  {
   "cell_type": "code",
   "execution_count": 9,
   "id": "00b518b1-2742-49cc-905d-0af1e7120e2e",
   "metadata": {},
   "outputs": [],
   "source": [
    "worldmeter[\"Serious,Critical\"] = worldmeter[\"Serious,Critical\"].fillna(worldmeter[\"Serious,Critical\"].median())\n",
    "worldmeter[\"TotalDeaths\"] = worldmeter[\"TotalDeaths\"].fillna(worldmeter[\"TotalDeaths\"].median())\n",
    "worldmeter[\"Deaths/1M pop\"] = worldmeter[\"Deaths/1M pop\"].fillna(worldmeter[\"Deaths/1M pop\"].median())\n",
    "worldmeter[\"TotalTests\"] = worldmeter[\"TotalTests\"].fillna(worldmeter[\"TotalTests\"].median())\n",
    "worldmeter[\"Tests/1M pop\"] = worldmeter[\"Tests/1M pop\"].fillna(worldmeter[\"Tests/1M pop\"].median())\n",
    "worldmeter[\"WHO Region\"] = worldmeter[\"WHO Region\"].fillna(worldmeter[\"WHO Region\"].mode())\n",
    "\n",
    "# I chose to fillna rather than drop the missing values because I can't lose 87 dataset out of 209 dataset"
   ]
  },
  {
   "cell_type": "code",
   "execution_count": 10,
   "id": "e7cfb41d-6e50-4d20-8713-0dabba229823",
   "metadata": {
    "scrolled": true
   },
   "outputs": [
    {
     "data": {
      "text/html": [
       "<div>\n",
       "<style scoped>\n",
       "    .dataframe tbody tr th:only-of-type {\n",
       "        vertical-align: middle;\n",
       "    }\n",
       "\n",
       "    .dataframe tbody tr th {\n",
       "        vertical-align: top;\n",
       "    }\n",
       "\n",
       "    .dataframe thead th {\n",
       "        text-align: right;\n",
       "    }\n",
       "</style>\n",
       "<table border=\"1\" class=\"dataframe\">\n",
       "  <thead>\n",
       "    <tr style=\"text-align: right;\">\n",
       "      <th></th>\n",
       "      <th>Country/Region</th>\n",
       "      <th>Population</th>\n",
       "      <th>TotalCases</th>\n",
       "      <th>TotalDeaths</th>\n",
       "      <th>TotalRecovered</th>\n",
       "      <th>ActiveCases</th>\n",
       "      <th>Serious,Critical</th>\n",
       "      <th>Tot Cases/1M pop</th>\n",
       "      <th>Deaths/1M pop</th>\n",
       "      <th>TotalTests</th>\n",
       "      <th>Tests/1M pop</th>\n",
       "      <th>WHO Region</th>\n",
       "    </tr>\n",
       "  </thead>\n",
       "  <tbody>\n",
       "    <tr>\n",
       "      <th>206</th>\n",
       "      <td>Falkland Islands</td>\n",
       "      <td>3489.0</td>\n",
       "      <td>13</td>\n",
       "      <td>113.0</td>\n",
       "      <td>13.0</td>\n",
       "      <td>0.0</td>\n",
       "      <td>27.5</td>\n",
       "      <td>3726.0</td>\n",
       "      <td>29.0</td>\n",
       "      <td>1816.0</td>\n",
       "      <td>520493.0</td>\n",
       "      <td>NaN</td>\n",
       "    </tr>\n",
       "    <tr>\n",
       "      <th>207</th>\n",
       "      <td>Vatican City</td>\n",
       "      <td>801.0</td>\n",
       "      <td>12</td>\n",
       "      <td>113.0</td>\n",
       "      <td>12.0</td>\n",
       "      <td>0.0</td>\n",
       "      <td>27.5</td>\n",
       "      <td>14981.0</td>\n",
       "      <td>29.0</td>\n",
       "      <td>135702.0</td>\n",
       "      <td>32585.0</td>\n",
       "      <td>Europe</td>\n",
       "    </tr>\n",
       "    <tr>\n",
       "      <th>208</th>\n",
       "      <td>Western Sahara</td>\n",
       "      <td>598682.0</td>\n",
       "      <td>10</td>\n",
       "      <td>1.0</td>\n",
       "      <td>8.0</td>\n",
       "      <td>1.0</td>\n",
       "      <td>27.5</td>\n",
       "      <td>17.0</td>\n",
       "      <td>2.0</td>\n",
       "      <td>135702.0</td>\n",
       "      <td>32585.0</td>\n",
       "      <td>Africa</td>\n",
       "    </tr>\n",
       "  </tbody>\n",
       "</table>\n",
       "</div>"
      ],
      "text/plain": [
       "       Country/Region  Population  TotalCases  TotalDeaths  TotalRecovered  \\\n",
       "206  Falkland Islands      3489.0          13        113.0            13.0   \n",
       "207      Vatican City       801.0          12        113.0            12.0   \n",
       "208    Western Sahara    598682.0          10          1.0             8.0   \n",
       "\n",
       "     ActiveCases  Serious,Critical  Tot Cases/1M pop  Deaths/1M pop  \\\n",
       "206          0.0              27.5            3726.0           29.0   \n",
       "207          0.0              27.5           14981.0           29.0   \n",
       "208          1.0              27.5              17.0            2.0   \n",
       "\n",
       "     TotalTests  Tests/1M pop WHO Region  \n",
       "206      1816.0      520493.0        NaN  \n",
       "207    135702.0       32585.0     Europe  \n",
       "208    135702.0       32585.0     Africa  "
      ]
     },
     "execution_count": 10,
     "metadata": {},
     "output_type": "execute_result"
    }
   ],
   "source": [
    "worldmeter.tail(3)"
   ]
  },
  {
   "cell_type": "code",
   "execution_count": 11,
   "id": "2d64f673-0195-4a31-b7f9-f63c79898bcf",
   "metadata": {},
   "outputs": [],
   "source": [
    "worldmeter = worldmeter.dropna() # Here, I dropped the remaining missing values because the effect isn't much"
   ]
  },
  {
   "cell_type": "code",
   "execution_count": 12,
   "id": "c0c6e596-03d0-4ac5-929f-3e4554273814",
   "metadata": {},
   "outputs": [
    {
     "data": {
      "text/html": [
       "<div>\n",
       "<style scoped>\n",
       "    .dataframe tbody tr th:only-of-type {\n",
       "        vertical-align: middle;\n",
       "    }\n",
       "\n",
       "    .dataframe tbody tr th {\n",
       "        vertical-align: top;\n",
       "    }\n",
       "\n",
       "    .dataframe thead th {\n",
       "        text-align: right;\n",
       "    }\n",
       "</style>\n",
       "<table border=\"1\" class=\"dataframe\">\n",
       "  <thead>\n",
       "    <tr style=\"text-align: right;\">\n",
       "      <th></th>\n",
       "      <th>Country/Region</th>\n",
       "      <th>Population</th>\n",
       "      <th>TotalCases</th>\n",
       "      <th>TotalDeaths</th>\n",
       "      <th>TotalRecovered</th>\n",
       "      <th>ActiveCases</th>\n",
       "      <th>Serious,Critical</th>\n",
       "      <th>Tot Cases/1M pop</th>\n",
       "      <th>Deaths/1M pop</th>\n",
       "      <th>TotalTests</th>\n",
       "      <th>Tests/1M pop</th>\n",
       "      <th>WHO Region</th>\n",
       "    </tr>\n",
       "  </thead>\n",
       "  <tbody>\n",
       "    <tr>\n",
       "      <th>0</th>\n",
       "      <td>USA</td>\n",
       "      <td>3.311981e+08</td>\n",
       "      <td>5032179</td>\n",
       "      <td>162804.0</td>\n",
       "      <td>2576668.0</td>\n",
       "      <td>2292707.0</td>\n",
       "      <td>18296.0</td>\n",
       "      <td>15194.0</td>\n",
       "      <td>492.0</td>\n",
       "      <td>63139605.0</td>\n",
       "      <td>190640.0</td>\n",
       "      <td>Americas</td>\n",
       "    </tr>\n",
       "    <tr>\n",
       "      <th>1</th>\n",
       "      <td>Brazil</td>\n",
       "      <td>2.127107e+08</td>\n",
       "      <td>2917562</td>\n",
       "      <td>98644.0</td>\n",
       "      <td>2047660.0</td>\n",
       "      <td>771258.0</td>\n",
       "      <td>8318.0</td>\n",
       "      <td>13716.0</td>\n",
       "      <td>464.0</td>\n",
       "      <td>13206188.0</td>\n",
       "      <td>62085.0</td>\n",
       "      <td>Americas</td>\n",
       "    </tr>\n",
       "    <tr>\n",
       "      <th>2</th>\n",
       "      <td>India</td>\n",
       "      <td>1.381345e+09</td>\n",
       "      <td>2025409</td>\n",
       "      <td>41638.0</td>\n",
       "      <td>1377384.0</td>\n",
       "      <td>606387.0</td>\n",
       "      <td>8944.0</td>\n",
       "      <td>1466.0</td>\n",
       "      <td>30.0</td>\n",
       "      <td>22149351.0</td>\n",
       "      <td>16035.0</td>\n",
       "      <td>South-EastAsia</td>\n",
       "    </tr>\n",
       "  </tbody>\n",
       "</table>\n",
       "</div>"
      ],
      "text/plain": [
       "  Country/Region    Population  TotalCases  TotalDeaths  TotalRecovered  \\\n",
       "0            USA  3.311981e+08     5032179     162804.0       2576668.0   \n",
       "1         Brazil  2.127107e+08     2917562      98644.0       2047660.0   \n",
       "2          India  1.381345e+09     2025409      41638.0       1377384.0   \n",
       "\n",
       "   ActiveCases  Serious,Critical  Tot Cases/1M pop  Deaths/1M pop  TotalTests  \\\n",
       "0    2292707.0           18296.0           15194.0          492.0  63139605.0   \n",
       "1     771258.0            8318.0           13716.0          464.0  13206188.0   \n",
       "2     606387.0            8944.0            1466.0           30.0  22149351.0   \n",
       "\n",
       "   Tests/1M pop      WHO Region  \n",
       "0      190640.0        Americas  \n",
       "1       62085.0        Americas  \n",
       "2       16035.0  South-EastAsia  "
      ]
     },
     "execution_count": 12,
     "metadata": {},
     "output_type": "execute_result"
    }
   ],
   "source": [
    "worldmeter.head(3)"
   ]
  },
  {
   "cell_type": "code",
   "execution_count": 13,
   "id": "247dcf65-006b-4456-b24c-4e51ac294589",
   "metadata": {},
   "outputs": [
    {
     "data": {
      "text/plain": [
       "Country/Region      0\n",
       "Population          0\n",
       "TotalCases          0\n",
       "TotalDeaths         0\n",
       "TotalRecovered      0\n",
       "ActiveCases         0\n",
       "Serious,Critical    0\n",
       "Tot Cases/1M pop    0\n",
       "Deaths/1M pop       0\n",
       "TotalTests          0\n",
       "Tests/1M pop        0\n",
       "WHO Region          0\n",
       "dtype: int64"
      ]
     },
     "execution_count": 13,
     "metadata": {},
     "output_type": "execute_result"
    }
   ],
   "source": [
    "worldmeter.isnull().sum() # checked to see if there still missing values"
   ]
  },
  {
   "cell_type": "code",
   "execution_count": 14,
   "id": "f66592fa-ce5b-4d39-b0ab-a6a94ebb0e2e",
   "metadata": {},
   "outputs": [
    {
     "name": "stdout",
     "output_type": "stream",
     "text": [
      "<class 'pandas.core.frame.DataFrame'>\n",
      "Index: 180 entries, 0 to 208\n",
      "Data columns (total 12 columns):\n",
      " #   Column            Non-Null Count  Dtype  \n",
      "---  ------            --------------  -----  \n",
      " 0   Country/Region    180 non-null    object \n",
      " 1   Population        180 non-null    float64\n",
      " 2   TotalCases        180 non-null    int64  \n",
      " 3   TotalDeaths       180 non-null    float64\n",
      " 4   TotalRecovered    180 non-null    float64\n",
      " 5   ActiveCases       180 non-null    float64\n",
      " 6   Serious,Critical  180 non-null    float64\n",
      " 7   Tot Cases/1M pop  180 non-null    float64\n",
      " 8   Deaths/1M pop     180 non-null    float64\n",
      " 9   TotalTests        180 non-null    float64\n",
      " 10  Tests/1M pop      180 non-null    float64\n",
      " 11  WHO Region        180 non-null    object \n",
      "dtypes: float64(9), int64(1), object(2)\n",
      "memory usage: 18.3+ KB\n"
     ]
    }
   ],
   "source": [
    "worldmeter.info() # I derived the dataset information so i can make necessary adjument"
   ]
  },
  {
   "cell_type": "code",
   "execution_count": 15,
   "id": "64cc0e9b-43f8-41ba-86af-7a6f49abea1e",
   "metadata": {},
   "outputs": [],
   "source": [
    "worldmeter = worldmeter.rename(columns={'Tot Cases/1M pop': 'Total Cases Per Million'})\n",
    "worldmeter = worldmeter.rename(columns={'Tests/1M pop': 'Test Cases Per Million'})\n",
    "worldmeter = worldmeter.rename(columns={'Deaths/1M pop': 'Deaths Cases Per Million'})\n",
    "worldmeter = worldmeter.rename(columns={'Country/Region': 'Country'})\n",
    "worldmeter = worldmeter.rename(columns={'Serious,Critical': 'SeriousCritical'})\n",
    "\n",
    "# Here, I renamed some of the columns for more clarification"
   ]
  },
  {
   "cell_type": "code",
   "execution_count": 16,
   "id": "86b21a2e-a6ca-41ca-9c23-3e1c8671e6cd",
   "metadata": {},
   "outputs": [
    {
     "data": {
      "text/html": [
       "<div>\n",
       "<style scoped>\n",
       "    .dataframe tbody tr th:only-of-type {\n",
       "        vertical-align: middle;\n",
       "    }\n",
       "\n",
       "    .dataframe tbody tr th {\n",
       "        vertical-align: top;\n",
       "    }\n",
       "\n",
       "    .dataframe thead th {\n",
       "        text-align: right;\n",
       "    }\n",
       "</style>\n",
       "<table border=\"1\" class=\"dataframe\">\n",
       "  <thead>\n",
       "    <tr style=\"text-align: right;\">\n",
       "      <th></th>\n",
       "      <th>Country</th>\n",
       "      <th>Population</th>\n",
       "      <th>TotalCases</th>\n",
       "      <th>TotalDeaths</th>\n",
       "      <th>TotalRecovered</th>\n",
       "      <th>ActiveCases</th>\n",
       "      <th>SeriousCritical</th>\n",
       "      <th>Total Cases Per Million</th>\n",
       "      <th>Deaths Cases Per Million</th>\n",
       "      <th>TotalTests</th>\n",
       "      <th>Test Cases Per Million</th>\n",
       "      <th>WHO Region</th>\n",
       "    </tr>\n",
       "  </thead>\n",
       "  <tbody>\n",
       "    <tr>\n",
       "      <th>203</th>\n",
       "      <td>Greenland</td>\n",
       "      <td>56780.0</td>\n",
       "      <td>14</td>\n",
       "      <td>113.0</td>\n",
       "      <td>14.0</td>\n",
       "      <td>0.0</td>\n",
       "      <td>27.5</td>\n",
       "      <td>247.0</td>\n",
       "      <td>29.0</td>\n",
       "      <td>5977.0</td>\n",
       "      <td>105266.0</td>\n",
       "      <td>Europe</td>\n",
       "    </tr>\n",
       "    <tr>\n",
       "      <th>207</th>\n",
       "      <td>Vatican City</td>\n",
       "      <td>801.0</td>\n",
       "      <td>12</td>\n",
       "      <td>113.0</td>\n",
       "      <td>12.0</td>\n",
       "      <td>0.0</td>\n",
       "      <td>27.5</td>\n",
       "      <td>14981.0</td>\n",
       "      <td>29.0</td>\n",
       "      <td>135702.0</td>\n",
       "      <td>32585.0</td>\n",
       "      <td>Europe</td>\n",
       "    </tr>\n",
       "    <tr>\n",
       "      <th>208</th>\n",
       "      <td>Western Sahara</td>\n",
       "      <td>598682.0</td>\n",
       "      <td>10</td>\n",
       "      <td>1.0</td>\n",
       "      <td>8.0</td>\n",
       "      <td>1.0</td>\n",
       "      <td>27.5</td>\n",
       "      <td>17.0</td>\n",
       "      <td>2.0</td>\n",
       "      <td>135702.0</td>\n",
       "      <td>32585.0</td>\n",
       "      <td>Africa</td>\n",
       "    </tr>\n",
       "  </tbody>\n",
       "</table>\n",
       "</div>"
      ],
      "text/plain": [
       "            Country  Population  TotalCases  TotalDeaths  TotalRecovered  \\\n",
       "203       Greenland     56780.0          14        113.0            14.0   \n",
       "207    Vatican City       801.0          12        113.0            12.0   \n",
       "208  Western Sahara    598682.0          10          1.0             8.0   \n",
       "\n",
       "     ActiveCases  SeriousCritical  Total Cases Per Million  \\\n",
       "203          0.0             27.5                    247.0   \n",
       "207          0.0             27.5                  14981.0   \n",
       "208          1.0             27.5                     17.0   \n",
       "\n",
       "     Deaths Cases Per Million  TotalTests  Test Cases Per Million WHO Region  \n",
       "203                      29.0      5977.0                105266.0     Europe  \n",
       "207                      29.0    135702.0                 32585.0     Europe  \n",
       "208                       2.0    135702.0                 32585.0     Africa  "
      ]
     },
     "execution_count": 16,
     "metadata": {},
     "output_type": "execute_result"
    }
   ],
   "source": [
    "worldmeter.tail(3)"
   ]
  },
  {
   "cell_type": "code",
   "execution_count": 17,
   "id": "5ac2f754-97f5-4449-9c0e-edbfe6e5f58a",
   "metadata": {},
   "outputs": [
    {
     "data": {
      "text/plain": [
       "Index(['Population', 'TotalCases', 'TotalDeaths', 'TotalRecovered',\n",
       "       'ActiveCases', 'SeriousCritical', 'Total Cases Per Million',\n",
       "       'Deaths Cases Per Million', 'TotalTests', 'Test Cases Per Million'],\n",
       "      dtype='object')"
      ]
     },
     "execution_count": 17,
     "metadata": {},
     "output_type": "execute_result"
    }
   ],
   "source": [
    "numeric_cols = worldmeter.select_dtypes(include=['float64', 'int']).columns  \n",
    "numeric_cols "
   ]
  },
  {
   "cell_type": "code",
   "execution_count": 18,
   "id": "94670834-bb12-47f2-95c4-2f43171798ad",
   "metadata": {
    "scrolled": true
   },
   "outputs": [],
   "source": [
    "numeric_columns = ['TotalCases', 'TotalDeaths', 'TotalRecovered', \n",
    "                   'ActiveCases', 'SeriousCritical', \n",
    "                   'Total Cases Per Million', 'Deaths Cases Per Million', \n",
    "                   'TotalTests', 'Test Cases Per Million']\n",
    "\n",
    "scaler = MinMaxScaler()\n",
    "worldmeter[numeric_columns] = scaler.fit_transform(worldmeter[numeric_columns])"
   ]
  },
  {
   "cell_type": "code",
   "execution_count": 19,
   "id": "c7a2eebd-6518-4d74-9e8e-78f1c1d899d5",
   "metadata": {},
   "outputs": [
    {
     "data": {
      "text/html": [
       "<div>\n",
       "<style scoped>\n",
       "    .dataframe tbody tr th:only-of-type {\n",
       "        vertical-align: middle;\n",
       "    }\n",
       "\n",
       "    .dataframe tbody tr th {\n",
       "        vertical-align: top;\n",
       "    }\n",
       "\n",
       "    .dataframe thead th {\n",
       "        text-align: right;\n",
       "    }\n",
       "</style>\n",
       "<table border=\"1\" class=\"dataframe\">\n",
       "  <thead>\n",
       "    <tr style=\"text-align: right;\">\n",
       "      <th></th>\n",
       "      <th>Country</th>\n",
       "      <th>Population</th>\n",
       "      <th>TotalCases</th>\n",
       "      <th>TotalDeaths</th>\n",
       "      <th>TotalRecovered</th>\n",
       "      <th>ActiveCases</th>\n",
       "      <th>SeriousCritical</th>\n",
       "      <th>Total Cases Per Million</th>\n",
       "      <th>Deaths Cases Per Million</th>\n",
       "      <th>TotalTests</th>\n",
       "      <th>Test Cases Per Million</th>\n",
       "      <th>WHO Region</th>\n",
       "    </tr>\n",
       "  </thead>\n",
       "  <tbody>\n",
       "    <tr>\n",
       "      <th>0</th>\n",
       "      <td>USA</td>\n",
       "      <td>3.311981e+08</td>\n",
       "      <td>1.000000e+00</td>\n",
       "      <td>1.000000</td>\n",
       "      <td>1.000000</td>\n",
       "      <td>1.000000e+00</td>\n",
       "      <td>1.000000</td>\n",
       "      <td>0.380546</td>\n",
       "      <td>0.397376</td>\n",
       "      <td>1.000000</td>\n",
       "      <td>0.191540</td>\n",
       "      <td>Americas</td>\n",
       "    </tr>\n",
       "    <tr>\n",
       "      <th>1</th>\n",
       "      <td>Brazil</td>\n",
       "      <td>2.127107e+08</td>\n",
       "      <td>5.797802e-01</td>\n",
       "      <td>0.605904</td>\n",
       "      <td>0.794692</td>\n",
       "      <td>3.363962e-01</td>\n",
       "      <td>0.454605</td>\n",
       "      <td>0.343521</td>\n",
       "      <td>0.374758</td>\n",
       "      <td>0.209157</td>\n",
       "      <td>0.062376</td>\n",
       "      <td>Americas</td>\n",
       "    </tr>\n",
       "    <tr>\n",
       "      <th>2</th>\n",
       "      <td>India</td>\n",
       "      <td>1.381345e+09</td>\n",
       "      <td>4.024903e-01</td>\n",
       "      <td>0.255751</td>\n",
       "      <td>0.534559</td>\n",
       "      <td>2.644852e-01</td>\n",
       "      <td>0.488822</td>\n",
       "      <td>0.036649</td>\n",
       "      <td>0.024170</td>\n",
       "      <td>0.350798</td>\n",
       "      <td>0.016107</td>\n",
       "      <td>South-EastAsia</td>\n",
       "    </tr>\n",
       "    <tr>\n",
       "      <th>3</th>\n",
       "      <td>Russia</td>\n",
       "      <td>1.459409e+08</td>\n",
       "      <td>1.732621e-01</td>\n",
       "      <td>0.089710</td>\n",
       "      <td>0.262491</td>\n",
       "      <td>7.891588e-02</td>\n",
       "      <td>0.125663</td>\n",
       "      <td>0.149578</td>\n",
       "      <td>0.080716</td>\n",
       "      <td>0.470653</td>\n",
       "      <td>0.204585</td>\n",
       "      <td>Europe</td>\n",
       "    </tr>\n",
       "    <tr>\n",
       "      <th>4</th>\n",
       "      <td>South Africa</td>\n",
       "      <td>5.938157e+07</td>\n",
       "      <td>1.069467e-01</td>\n",
       "      <td>0.058985</td>\n",
       "      <td>0.150314</td>\n",
       "      <td>6.161450e-02</td>\n",
       "      <td>0.029407</td>\n",
       "      <td>0.226960</td>\n",
       "      <td>0.130800</td>\n",
       "      <td>0.049885</td>\n",
       "      <td>0.053292</td>\n",
       "      <td>Africa</td>\n",
       "    </tr>\n",
       "    <tr>\n",
       "      <th>...</th>\n",
       "      <td>...</td>\n",
       "      <td>...</td>\n",
       "      <td>...</td>\n",
       "      <td>...</td>\n",
       "      <td>...</td>\n",
       "      <td>...</td>\n",
       "      <td>...</td>\n",
       "      <td>...</td>\n",
       "      <td>...</td>\n",
       "      <td>...</td>\n",
       "      <td>...</td>\n",
       "      <td>...</td>\n",
       "    </tr>\n",
       "    <tr>\n",
       "      <th>201</th>\n",
       "      <td>Dominica</td>\n",
       "      <td>7.200400e+04</td>\n",
       "      <td>1.589772e-06</td>\n",
       "      <td>0.000688</td>\n",
       "      <td>0.000004</td>\n",
       "      <td>0.000000e+00</td>\n",
       "      <td>0.001448</td>\n",
       "      <td>0.006188</td>\n",
       "      <td>0.023362</td>\n",
       "      <td>0.000014</td>\n",
       "      <td>0.014020</td>\n",
       "      <td>Americas</td>\n",
       "    </tr>\n",
       "    <tr>\n",
       "      <th>202</th>\n",
       "      <td>Saint Kitts and Nevis</td>\n",
       "      <td>5.323700e+04</td>\n",
       "      <td>1.391050e-06</td>\n",
       "      <td>0.000688</td>\n",
       "      <td>0.000003</td>\n",
       "      <td>4.361656e-07</td>\n",
       "      <td>0.001448</td>\n",
       "      <td>0.007916</td>\n",
       "      <td>0.023362</td>\n",
       "      <td>0.000016</td>\n",
       "      <td>0.021624</td>\n",
       "      <td>Americas</td>\n",
       "    </tr>\n",
       "    <tr>\n",
       "      <th>203</th>\n",
       "      <td>Greenland</td>\n",
       "      <td>5.678000e+04</td>\n",
       "      <td>7.948859e-07</td>\n",
       "      <td>0.000688</td>\n",
       "      <td>0.000002</td>\n",
       "      <td>0.000000e+00</td>\n",
       "      <td>0.001448</td>\n",
       "      <td>0.006112</td>\n",
       "      <td>0.023362</td>\n",
       "      <td>0.000093</td>\n",
       "      <td>0.105761</td>\n",
       "      <td>Europe</td>\n",
       "    </tr>\n",
       "    <tr>\n",
       "      <th>207</th>\n",
       "      <td>Vatican City</td>\n",
       "      <td>8.010000e+02</td>\n",
       "      <td>3.974429e-07</td>\n",
       "      <td>0.000688</td>\n",
       "      <td>0.000002</td>\n",
       "      <td>0.000000e+00</td>\n",
       "      <td>0.001448</td>\n",
       "      <td>0.375210</td>\n",
       "      <td>0.023362</td>\n",
       "      <td>0.002147</td>\n",
       "      <td>0.032736</td>\n",
       "      <td>Europe</td>\n",
       "    </tr>\n",
       "    <tr>\n",
       "      <th>208</th>\n",
       "      <td>Western Sahara</td>\n",
       "      <td>5.986820e+05</td>\n",
       "      <td>0.000000e+00</td>\n",
       "      <td>0.000000</td>\n",
       "      <td>0.000000</td>\n",
       "      <td>4.361656e-07</td>\n",
       "      <td>0.001448</td>\n",
       "      <td>0.000351</td>\n",
       "      <td>0.001551</td>\n",
       "      <td>0.002147</td>\n",
       "      <td>0.032736</td>\n",
       "      <td>Africa</td>\n",
       "    </tr>\n",
       "  </tbody>\n",
       "</table>\n",
       "<p>180 rows × 12 columns</p>\n",
       "</div>"
      ],
      "text/plain": [
       "                   Country    Population    TotalCases  TotalDeaths  \\\n",
       "0                      USA  3.311981e+08  1.000000e+00     1.000000   \n",
       "1                   Brazil  2.127107e+08  5.797802e-01     0.605904   \n",
       "2                    India  1.381345e+09  4.024903e-01     0.255751   \n",
       "3                   Russia  1.459409e+08  1.732621e-01     0.089710   \n",
       "4             South Africa  5.938157e+07  1.069467e-01     0.058985   \n",
       "..                     ...           ...           ...          ...   \n",
       "201               Dominica  7.200400e+04  1.589772e-06     0.000688   \n",
       "202  Saint Kitts and Nevis  5.323700e+04  1.391050e-06     0.000688   \n",
       "203              Greenland  5.678000e+04  7.948859e-07     0.000688   \n",
       "207           Vatican City  8.010000e+02  3.974429e-07     0.000688   \n",
       "208         Western Sahara  5.986820e+05  0.000000e+00     0.000000   \n",
       "\n",
       "     TotalRecovered   ActiveCases  SeriousCritical  Total Cases Per Million  \\\n",
       "0          1.000000  1.000000e+00         1.000000                 0.380546   \n",
       "1          0.794692  3.363962e-01         0.454605                 0.343521   \n",
       "2          0.534559  2.644852e-01         0.488822                 0.036649   \n",
       "3          0.262491  7.891588e-02         0.125663                 0.149578   \n",
       "4          0.150314  6.161450e-02         0.029407                 0.226960   \n",
       "..              ...           ...              ...                      ...   \n",
       "201        0.000004  0.000000e+00         0.001448                 0.006188   \n",
       "202        0.000003  4.361656e-07         0.001448                 0.007916   \n",
       "203        0.000002  0.000000e+00         0.001448                 0.006112   \n",
       "207        0.000002  0.000000e+00         0.001448                 0.375210   \n",
       "208        0.000000  4.361656e-07         0.001448                 0.000351   \n",
       "\n",
       "     Deaths Cases Per Million  TotalTests  Test Cases Per Million  \\\n",
       "0                    0.397376    1.000000                0.191540   \n",
       "1                    0.374758    0.209157                0.062376   \n",
       "2                    0.024170    0.350798                0.016107   \n",
       "3                    0.080716    0.470653                0.204585   \n",
       "4                    0.130800    0.049885                0.053292   \n",
       "..                        ...         ...                     ...   \n",
       "201                  0.023362    0.000014                0.014020   \n",
       "202                  0.023362    0.000016                0.021624   \n",
       "203                  0.023362    0.000093                0.105761   \n",
       "207                  0.023362    0.002147                0.032736   \n",
       "208                  0.001551    0.002147                0.032736   \n",
       "\n",
       "         WHO Region  \n",
       "0          Americas  \n",
       "1          Americas  \n",
       "2    South-EastAsia  \n",
       "3            Europe  \n",
       "4            Africa  \n",
       "..              ...  \n",
       "201        Americas  \n",
       "202        Americas  \n",
       "203          Europe  \n",
       "207          Europe  \n",
       "208          Africa  \n",
       "\n",
       "[180 rows x 12 columns]"
      ]
     },
     "execution_count": 19,
     "metadata": {},
     "output_type": "execute_result"
    }
   ],
   "source": [
    "worldmeter"
   ]
  },
  {
   "cell_type": "markdown",
   "id": "d3a1f4c3-babe-4ae3-85d4-742ecfaef03a",
   "metadata": {},
   "source": [
    "# Feature Engineering"
   ]
  },
  {
   "cell_type": "code",
   "execution_count": 21,
   "id": "7feb16ad-dfb4-4bff-8e25-b4b0d9f6101c",
   "metadata": {},
   "outputs": [
    {
     "data": {
      "image/png": "[encoded data removed]",
      "text/plain": [
       "<Figure size 1000x800 with 1 Axes>"
      ]
     },
     "metadata": {},
     "output_type": "display_data"
    }
   ],
   "source": [
    "top_20_countries = worldmeter.nlargest(20, 'TotalCases')\n",
    "\n",
    "# Plot horizontal bar chart\n",
    "top_20_countries.plot(x='Country', y='TotalCases', kind='barh', figsize=(10, 8))\n",
    "plt.title('Top 20 Countries with Highest COVID-19 Cases')\n",
    "plt.xlabel('Total Cases')\n",
    "plt.ylabel('Country')\n",
    "plt.show()\n",
    "\n",
    "# To predict the spread of the virus, I decided to check out the top 20 countries with the highest virus rate, \n",
    "# The chart below shows the USA has the highest rate of COVID-19 cases\n",
    "# South Africa, Mexico, Peru indicate mid-range values\n",
    "# while many countries, such as Germany, Argentina, and Turkey lower values.\n"
   ]
  },
  {
   "cell_type": "code",
   "execution_count": 22,
   "id": "93d3e9ee-f764-46ef-99b6-b2fb149a95e3",
   "metadata": {},
   "outputs": [
    {
     "data": {
      "image/png": "[encoded data removed]",
      "text/plain": [
       "<Figure size 1000x800 with 1 Axes>"
      ]
     },
     "metadata": {},
     "output_type": "display_data"
    },
    {
     "data": {
      "text/plain": [
       "'The chart below shows that population size is a major factor contributing to the increase in COVID-19 cases in many countries.\\nHowever, it’s clear from the chart that there are other reasons for the high spread of the virus beyond population size.\\nFor example, the first chart shows the USA with the highest number of cases, while India ranks third. \\nOn the population chart, however, India has the largest population, followed by the USA. \\nDespite this, the USA has more cases than India. \\nThis suggests that other factors, apart from population size,\\nplayed a significant role in the spread of the virus in different countries.'"
      ]
     },
     "execution_count": 22,
     "metadata": {},
     "output_type": "execute_result"
    }
   ],
   "source": [
    "top_20_countries = worldmeter.nlargest(20, 'Population')\n",
    "\n",
    "# Plot horizontal bar chart\n",
    "top_20_countries.plot(x='Country', y='Population', kind='barh', figsize=(10, 8))\n",
    "plt.title('Top 20 Countries with Highest Population')\n",
    "plt.xlabel('Population')\n",
    "plt.ylabel('Country')\n",
    "plt.show()\n",
    "\n",
    "# At this point, I decided to check if the population size of a country plays a role in determining the number of COVID-19 cases in various countries.\n",
    "\"\"\"The chart below shows that population size is a major factor contributing to the increase in COVID-19 cases in many countries.\n",
    "However, it’s clear from the chart that there are other reasons for the high spread of the virus beyond population size.\n",
    "For example, the first chart shows the USA with the highest number of cases, while India ranks third. \n",
    "On the population chart, however, India has the largest population, followed by the USA. \n",
    "Despite this, the USA has more cases than India. \n",
    "This suggests that other factors, apart from population size,\n",
    "played a significant role in the spread of the virus in different countries.\"\"\""
   ]
  },
  {
   "cell_type": "code",
   "execution_count": 70,
   "id": "91a5c2fb-6d0a-41d9-9a88-c4cf3642ad94",
   "metadata": {},
   "outputs": [
    {
     "data": {
      "image/png": "[encoded data removed]",
      "text/plain": [
       "<Figure size 1000x600 with 1 Axes>"
      ]
     },
     "metadata": {},
     "output_type": "display_data"
    },
    {
     "data": {
      "text/plain": [
       "' the chart below reviews an outlier outliers where a country with a smaller population has a disproportionately high number of cases,\\nindicating potential factors such as healthcare systems, testing rates, or other socio-economic factors. '"
      ]
     },
     "execution_count": 70,
     "metadata": {},
     "output_type": "execute_result"
    }
   ],
   "source": [
    "plt.figure(figsize=(10, 6))\n",
    "sns.scatterplot(x=worldmeter['Population'], y=worldmeter['TotalCases'])\n",
    "plt.title('Population vs. TotalCases Across 10 Countries')\n",
    "plt.xlabel('Population')\n",
    "plt.ylabel('TotalCases')\n",
    "plt.show()\n",
    "\"\"\" the chart below reviews an outliers where a country with a smaller population has a disproportionately high number of cases,\n",
    "indicating potential factors such as healthcare systems, testing rates, or other socio-economic factors. \"\"\""
   ]
  },
  {
   "cell_type": "code",
   "execution_count": 23,
   "id": "3f95bcce-6e82-4643-bf2c-b85c18b499a6",
   "metadata": {},
   "outputs": [],
   "source": [
    "worldmeter['MortalityRatio'] = worldmeter['TotalDeaths'] / worldmeter['TotalCases']"
   ]
  },
  {
   "cell_type": "code",
   "execution_count": 24,
   "id": "50bd55f0-e214-4fb4-9561-0a416099af6b",
   "metadata": {},
   "outputs": [],
   "source": [
    "worldmeter['RecoveryRate'] = worldmeter['TotalRecovered'] / worldmeter['TotalCases']"
   ]
  },
  {
   "cell_type": "code",
   "execution_count": 25,
   "id": "5b0a27c1-21f7-48c3-ae02-62a221bf25fd",
   "metadata": {},
   "outputs": [],
   "source": [
    "worldmeter['CasesPerPopulation'] = worldmeter['TotalCases'] / worldmeter['Population']"
   ]
  },
  {
   "cell_type": "code",
   "execution_count": 26,
   "id": "27f0253a-2ee4-4a00-a858-ffa72ea9cd51",
   "metadata": {},
   "outputs": [],
   "source": [
    "scaler = MinMaxScaler()\n",
    "worldmeter[numeric_cols] = scaler.fit_transform(worldmeter[numeric_cols])"
   ]
  },
  {
   "cell_type": "code",
   "execution_count": 27,
   "id": "a017ed34-b2b9-47a1-8d62-fe67bb64e782",
   "metadata": {},
   "outputs": [],
   "source": [
    "worldmeter.dropna(inplace=True)"
   ]
  },
  {
   "cell_type": "code",
   "execution_count": 28,
   "id": "48c0e679-0583-4fbf-b012-27e552db33ca",
   "metadata": {},
   "outputs": [
    {
     "data": {
      "text/html": [
       "<div>\n",
       "<style scoped>\n",
       "    .dataframe tbody tr th:only-of-type {\n",
       "        vertical-align: middle;\n",
       "    }\n",
       "\n",
       "    .dataframe tbody tr th {\n",
       "        vertical-align: top;\n",
       "    }\n",
       "\n",
       "    .dataframe thead th {\n",
       "        text-align: right;\n",
       "    }\n",
       "</style>\n",
       "<table border=\"1\" class=\"dataframe\">\n",
       "  <thead>\n",
       "    <tr style=\"text-align: right;\">\n",
       "      <th></th>\n",
       "      <th>Country</th>\n",
       "      <th>Population</th>\n",
       "      <th>TotalCases</th>\n",
       "      <th>TotalDeaths</th>\n",
       "      <th>TotalRecovered</th>\n",
       "      <th>ActiveCases</th>\n",
       "      <th>SeriousCritical</th>\n",
       "      <th>Total Cases Per Million</th>\n",
       "      <th>Deaths Cases Per Million</th>\n",
       "      <th>TotalTests</th>\n",
       "      <th>Test Cases Per Million</th>\n",
       "      <th>WHO Region</th>\n",
       "      <th>MortalityRatio</th>\n",
       "      <th>RecoveryRate</th>\n",
       "      <th>CasesPerPopulation</th>\n",
       "    </tr>\n",
       "  </thead>\n",
       "  <tbody>\n",
       "    <tr>\n",
       "      <th>0</th>\n",
       "      <td>USA</td>\n",
       "      <td>0.239765</td>\n",
       "      <td>1.000000e+00</td>\n",
       "      <td>1.000000</td>\n",
       "      <td>1.000000</td>\n",
       "      <td>1.000000e+00</td>\n",
       "      <td>1.000000</td>\n",
       "      <td>0.380546</td>\n",
       "      <td>0.397376</td>\n",
       "      <td>1.000000</td>\n",
       "      <td>0.191540</td>\n",
       "      <td>Americas</td>\n",
       "      <td>1.000000</td>\n",
       "      <td>1.000000</td>\n",
       "      <td>3.019341e-09</td>\n",
       "    </tr>\n",
       "    <tr>\n",
       "      <th>1</th>\n",
       "      <td>Brazil</td>\n",
       "      <td>0.153988</td>\n",
       "      <td>5.797802e-01</td>\n",
       "      <td>0.605904</td>\n",
       "      <td>0.794692</td>\n",
       "      <td>3.363962e-01</td>\n",
       "      <td>0.454605</td>\n",
       "      <td>0.343521</td>\n",
       "      <td>0.374758</td>\n",
       "      <td>0.209157</td>\n",
       "      <td>0.062376</td>\n",
       "      <td>Americas</td>\n",
       "      <td>1.045058</td>\n",
       "      <td>1.370679</td>\n",
       "      <td>2.725675e-09</td>\n",
       "    </tr>\n",
       "    <tr>\n",
       "      <th>2</th>\n",
       "      <td>India</td>\n",
       "      <td>1.000000</td>\n",
       "      <td>4.024903e-01</td>\n",
       "      <td>0.255751</td>\n",
       "      <td>0.534559</td>\n",
       "      <td>2.644852e-01</td>\n",
       "      <td>0.488822</td>\n",
       "      <td>0.036649</td>\n",
       "      <td>0.024170</td>\n",
       "      <td>0.350798</td>\n",
       "      <td>0.016107</td>\n",
       "      <td>South-EastAsia</td>\n",
       "      <td>0.635421</td>\n",
       "      <td>1.328128</td>\n",
       "      <td>2.913756e-10</td>\n",
       "    </tr>\n",
       "    <tr>\n",
       "      <th>3</th>\n",
       "      <td>Russia</td>\n",
       "      <td>0.105651</td>\n",
       "      <td>1.732621e-01</td>\n",
       "      <td>0.089710</td>\n",
       "      <td>0.262491</td>\n",
       "      <td>7.891588e-02</td>\n",
       "      <td>0.125663</td>\n",
       "      <td>0.149578</td>\n",
       "      <td>0.080716</td>\n",
       "      <td>0.470653</td>\n",
       "      <td>0.204585</td>\n",
       "      <td>Europe</td>\n",
       "      <td>0.517769</td>\n",
       "      <td>1.514992</td>\n",
       "      <td>1.187207e-09</td>\n",
       "    </tr>\n",
       "    <tr>\n",
       "      <th>4</th>\n",
       "      <td>South Africa</td>\n",
       "      <td>0.042988</td>\n",
       "      <td>1.069467e-01</td>\n",
       "      <td>0.058985</td>\n",
       "      <td>0.150314</td>\n",
       "      <td>6.161450e-02</td>\n",
       "      <td>0.029407</td>\n",
       "      <td>0.226960</td>\n",
       "      <td>0.130800</td>\n",
       "      <td>0.049885</td>\n",
       "      <td>0.053292</td>\n",
       "      <td>Africa</td>\n",
       "      <td>0.551540</td>\n",
       "      <td>1.405503</td>\n",
       "      <td>1.801009e-09</td>\n",
       "    </tr>\n",
       "    <tr>\n",
       "      <th>...</th>\n",
       "      <td>...</td>\n",
       "      <td>...</td>\n",
       "      <td>...</td>\n",
       "      <td>...</td>\n",
       "      <td>...</td>\n",
       "      <td>...</td>\n",
       "      <td>...</td>\n",
       "      <td>...</td>\n",
       "      <td>...</td>\n",
       "      <td>...</td>\n",
       "      <td>...</td>\n",
       "      <td>...</td>\n",
       "      <td>...</td>\n",
       "      <td>...</td>\n",
       "      <td>...</td>\n",
       "    </tr>\n",
       "    <tr>\n",
       "      <th>200</th>\n",
       "      <td>Laos</td>\n",
       "      <td>0.005274</td>\n",
       "      <td>1.987215e-06</td>\n",
       "      <td>0.000688</td>\n",
       "      <td>0.000004</td>\n",
       "      <td>4.361656e-07</td>\n",
       "      <td>0.001448</td>\n",
       "      <td>0.000000</td>\n",
       "      <td>0.023362</td>\n",
       "      <td>0.000463</td>\n",
       "      <td>0.004047</td>\n",
       "      <td>WesternPacific</td>\n",
       "      <td>346.187065</td>\n",
       "      <td>2.148280</td>\n",
       "      <td>2.727536e-13</td>\n",
       "    </tr>\n",
       "    <tr>\n",
       "      <th>201</th>\n",
       "      <td>Dominica</td>\n",
       "      <td>0.000052</td>\n",
       "      <td>1.589772e-06</td>\n",
       "      <td>0.000688</td>\n",
       "      <td>0.000004</td>\n",
       "      <td>0.000000e+00</td>\n",
       "      <td>0.001448</td>\n",
       "      <td>0.006188</td>\n",
       "      <td>0.023362</td>\n",
       "      <td>0.000014</td>\n",
       "      <td>0.014020</td>\n",
       "      <td>Americas</td>\n",
       "      <td>432.733832</td>\n",
       "      <td>2.441227</td>\n",
       "      <td>2.207894e-11</td>\n",
       "    </tr>\n",
       "    <tr>\n",
       "      <th>202</th>\n",
       "      <td>Saint Kitts and Nevis</td>\n",
       "      <td>0.000038</td>\n",
       "      <td>1.391050e-06</td>\n",
       "      <td>0.000688</td>\n",
       "      <td>0.000003</td>\n",
       "      <td>4.361656e-07</td>\n",
       "      <td>0.001448</td>\n",
       "      <td>0.007916</td>\n",
       "      <td>0.023362</td>\n",
       "      <td>0.000016</td>\n",
       "      <td>0.021624</td>\n",
       "      <td>Americas</td>\n",
       "      <td>494.552950</td>\n",
       "      <td>2.231979</td>\n",
       "      <td>2.612939e-11</td>\n",
       "    </tr>\n",
       "    <tr>\n",
       "      <th>203</th>\n",
       "      <td>Greenland</td>\n",
       "      <td>0.000041</td>\n",
       "      <td>7.948859e-07</td>\n",
       "      <td>0.000688</td>\n",
       "      <td>0.000002</td>\n",
       "      <td>0.000000e+00</td>\n",
       "      <td>0.001448</td>\n",
       "      <td>0.006112</td>\n",
       "      <td>0.023362</td>\n",
       "      <td>0.000093</td>\n",
       "      <td>0.105761</td>\n",
       "      <td>Europe</td>\n",
       "      <td>865.467663</td>\n",
       "      <td>2.929472</td>\n",
       "      <td>1.399940e-11</td>\n",
       "    </tr>\n",
       "    <tr>\n",
       "      <th>207</th>\n",
       "      <td>Vatican City</td>\n",
       "      <td>0.000000</td>\n",
       "      <td>3.974429e-07</td>\n",
       "      <td>0.000688</td>\n",
       "      <td>0.000002</td>\n",
       "      <td>0.000000e+00</td>\n",
       "      <td>0.001448</td>\n",
       "      <td>0.375210</td>\n",
       "      <td>0.023362</td>\n",
       "      <td>0.002147</td>\n",
       "      <td>0.032736</td>\n",
       "      <td>Europe</td>\n",
       "      <td>1730.935327</td>\n",
       "      <td>3.905963</td>\n",
       "      <td>4.961834e-10</td>\n",
       "    </tr>\n",
       "  </tbody>\n",
       "</table>\n",
       "<p>179 rows × 15 columns</p>\n",
       "</div>"
      ],
      "text/plain": [
       "                   Country  Population    TotalCases  TotalDeaths  \\\n",
       "0                      USA    0.239765  1.000000e+00     1.000000   \n",
       "1                   Brazil    0.153988  5.797802e-01     0.605904   \n",
       "2                    India    1.000000  4.024903e-01     0.255751   \n",
       "3                   Russia    0.105651  1.732621e-01     0.089710   \n",
       "4             South Africa    0.042988  1.069467e-01     0.058985   \n",
       "..                     ...         ...           ...          ...   \n",
       "200                   Laos    0.005274  1.987215e-06     0.000688   \n",
       "201               Dominica    0.000052  1.589772e-06     0.000688   \n",
       "202  Saint Kitts and Nevis    0.000038  1.391050e-06     0.000688   \n",
       "203              Greenland    0.000041  7.948859e-07     0.000688   \n",
       "207           Vatican City    0.000000  3.974429e-07     0.000688   \n",
       "\n",
       "     TotalRecovered   ActiveCases  SeriousCritical  Total Cases Per Million  \\\n",
       "0          1.000000  1.000000e+00         1.000000                 0.380546   \n",
       "1          0.794692  3.363962e-01         0.454605                 0.343521   \n",
       "2          0.534559  2.644852e-01         0.488822                 0.036649   \n",
       "3          0.262491  7.891588e-02         0.125663                 0.149578   \n",
       "4          0.150314  6.161450e-02         0.029407                 0.226960   \n",
       "..              ...           ...              ...                      ...   \n",
       "200        0.000004  4.361656e-07         0.001448                 0.000000   \n",
       "201        0.000004  0.000000e+00         0.001448                 0.006188   \n",
       "202        0.000003  4.361656e-07         0.001448                 0.007916   \n",
       "203        0.000002  0.000000e+00         0.001448                 0.006112   \n",
       "207        0.000002  0.000000e+00         0.001448                 0.375210   \n",
       "\n",
       "     Deaths Cases Per Million  TotalTests  Test Cases Per Million  \\\n",
       "0                    0.397376    1.000000                0.191540   \n",
       "1                    0.374758    0.209157                0.062376   \n",
       "2                    0.024170    0.350798                0.016107   \n",
       "3                    0.080716    0.470653                0.204585   \n",
       "4                    0.130800    0.049885                0.053292   \n",
       "..                        ...         ...                     ...   \n",
       "200                  0.023362    0.000463                0.004047   \n",
       "201                  0.023362    0.000014                0.014020   \n",
       "202                  0.023362    0.000016                0.021624   \n",
       "203                  0.023362    0.000093                0.105761   \n",
       "207                  0.023362    0.002147                0.032736   \n",
       "\n",
       "         WHO Region  MortalityRatio  RecoveryRate  CasesPerPopulation  \n",
       "0          Americas        1.000000      1.000000        3.019341e-09  \n",
       "1          Americas        1.045058      1.370679        2.725675e-09  \n",
       "2    South-EastAsia        0.635421      1.328128        2.913756e-10  \n",
       "3            Europe        0.517769      1.514992        1.187207e-09  \n",
       "4            Africa        0.551540      1.405503        1.801009e-09  \n",
       "..              ...             ...           ...                 ...  \n",
       "200  WesternPacific      346.187065      2.148280        2.727536e-13  \n",
       "201        Americas      432.733832      2.441227        2.207894e-11  \n",
       "202        Americas      494.552950      2.231979        2.612939e-11  \n",
       "203          Europe      865.467663      2.929472        1.399940e-11  \n",
       "207          Europe     1730.935327      3.905963        4.961834e-10  \n",
       "\n",
       "[179 rows x 15 columns]"
      ]
     },
     "execution_count": 28,
     "metadata": {},
     "output_type": "execute_result"
    }
   ],
   "source": [
    "worldmeter"
   ]
  },
  {
   "cell_type": "code",
   "execution_count": 29,
   "id": "e46176fd-966d-470b-a428-1593dc00cbd4",
   "metadata": {},
   "outputs": [
    {
     "data": {
      "image/png": "[encoded data removed]",
      "text/plain": [
       "<Figure size 800x600 with 1 Axes>"
      ]
     },
     "metadata": {},
     "output_type": "display_data"
    },
    {
     "data": {
      "text/plain": [
       "' The chart reviews Africa has the highest recovery rate. this can be due to low cases is this region.'"
      ]
     },
     "execution_count": 29,
     "metadata": {},
     "output_type": "execute_result"
    }
   ],
   "source": [
    "top_10_TotalRecovered = worldmeter.nlargest(10, 'TotalRecovered')\n",
    "\n",
    "# Plot horizontal bar chart\n",
    "top_10_TotalRecovered.plot(x='WHO Region', y='TotalRecovered', kind='barh', figsize=(8, 6))\n",
    "plt.title('Top 10 WHO Region with Highest TotalRecovered')\n",
    "plt.xlabel('TotalRecovered')\n",
    "plt.ylabel('WHO Region')\n",
    "plt.show()\n",
    "\"\"\" The chart reviews Africa has the highest recovery rate. this can be due to low cases is this region.\"\"\" "
   ]
  },
  {
   "cell_type": "code",
   "execution_count": 30,
   "id": "bfd28774-c180-419b-af9d-9206d3a39433",
   "metadata": {},
   "outputs": [
    {
     "data": {
      "image/png": "[encoded data removed]",
      "text/plain": [
       "<Figure size 1000x800 with 1 Axes>"
      ]
     },
     "metadata": {},
     "output_type": "display_data"
    },
    {
     "data": {
      "text/plain": [
       "\" I was interested in knowing the mortality rate per continent in order to view the impact of the virus \\nin the region based on the high spread of the virus in some countries. \\nHowever, I didn't like the fact that my graph became clustered with the Americas.\""
      ]
     },
     "execution_count": 30,
     "metadata": {},
     "output_type": "execute_result"
    }
   ],
   "source": [
    "top_10_MortalityRatio = worldmeter.nlargest(10, 'MortalityRatio')\n",
    "\n",
    "# Plot horizontal bar chart\n",
    "top_10_MortalityRatio.plot(x='WHO Region', y='MortalityRatio', kind='barh', figsize=(10, 8))\n",
    "plt.title('Top 10 WHO Region with Highest MortalityRatio')\n",
    "plt.xlabel('MortalityRatio')\n",
    "plt.ylabel('WHO Region')\n",
    "plt.show()\n",
    "\n",
    "\"\"\" I was interested in knowing the mortality rate per continent in order to view the impact of the virus \n",
    "in the region based on the high spread of the virus in some countries. \n",
    "However, I didn't like the fact that my graph became clustered with the Americas.\"\"\""
   ]
  },
  {
   "cell_type": "code",
   "execution_count": 31,
   "id": "35a6acf2-5f1e-4d3b-8e60-1d859be8afbf",
   "metadata": {
    "scrolled": true
   },
   "outputs": [
    {
     "data": {
      "image/png": "[encoded data removed]",
      "text/plain": [
       "<Figure size 640x480 with 1 Axes>"
      ]
     },
     "metadata": {},
     "output_type": "display_data"
    },
    {
     "data": {
      "text/plain": [
       "'At this point, I aggregated all entries for the Americas into a single group to analyze the overall impact of the virus. \\nAfter calculating the mortality rate (%) for each region, it became evident that the Americas and Europe are the most deeply impacted regions, \\nexhibiting alarmingly high death rates. This finding underscores an urgent need to improve health resource allocation in these regions. \\nThe high mortality rates signal severe strain on healthcare systems and demand immediate action to address gaps in medical infrastructure,\\ntreatment accessibility, and preventive measures..'"
      ]
     },
     "execution_count": 31,
     "metadata": {},
     "output_type": "execute_result"
    }
   ],
   "source": [
    "worldmeter.loc[worldmeter['WHO Region'] == \"Americas\", 'WHO Region'] = \"Americas Aggregated\"\n",
    "\n",
    "worldmeter_grouped = worldmeter.groupby(\"WHO Region\", as_index=False).sum()\n",
    "\n",
    "worldmeter_grouped['Mortality Rate (%)'] = (worldmeter_grouped['TotalDeaths'] / worldmeter_grouped['TotalCases']) * 100\n",
    "\n",
    "plt.bar(worldmeter_grouped['WHO Region'], worldmeter_grouped['Mortality Rate (%)'])\n",
    "plt.title(\"Mortality Rate by WHO Region\")\n",
    "plt.xlabel(\"WHO Region\")\n",
    "plt.ylabel(\"Mortality Rate (%)\")\n",
    "plt.xticks(rotation=90)\n",
    "plt.show()\n",
    "\"\"\"At this point, I aggregated all entries for the Americas into a single group to analyze the overall impact of the virus. \n",
    "After calculating the mortality rate (%) for each region, it became evident that the Americas and Europe are the most deeply impacted regions, \n",
    "exhibiting alarmingly high death rates. This finding underscores an urgent need to improve health resource allocation in these regions. \n",
    "The high mortality rates signal severe strain on healthcare systems and demand immediate action to address gaps in medical infrastructure,\n",
    "treatment accessibility, and preventive measures..\"\"\""
   ]
  },
  {
   "cell_type": "code",
   "execution_count": 32,
   "id": "c583447d-0172-43df-af2c-c5bb32969045",
   "metadata": {},
   "outputs": [
    {
     "data": {
      "text/html": [
       "<div>\n",
       "<style scoped>\n",
       "    .dataframe tbody tr th:only-of-type {\n",
       "        vertical-align: middle;\n",
       "    }\n",
       "\n",
       "    .dataframe tbody tr th {\n",
       "        vertical-align: top;\n",
       "    }\n",
       "\n",
       "    .dataframe thead th {\n",
       "        text-align: right;\n",
       "    }\n",
       "</style>\n",
       "<table border=\"1\" class=\"dataframe\">\n",
       "  <thead>\n",
       "    <tr style=\"text-align: right;\">\n",
       "      <th></th>\n",
       "      <th>Province/State</th>\n",
       "      <th>Country/Region</th>\n",
       "      <th>Lat</th>\n",
       "      <th>Long</th>\n",
       "      <th>Date</th>\n",
       "      <th>Confirmed</th>\n",
       "      <th>Deaths</th>\n",
       "      <th>Recovered</th>\n",
       "      <th>Active</th>\n",
       "      <th>WHO Region</th>\n",
       "    </tr>\n",
       "  </thead>\n",
       "  <tbody>\n",
       "    <tr>\n",
       "      <th>0</th>\n",
       "      <td>NaN</td>\n",
       "      <td>Afghanistan</td>\n",
       "      <td>33.939110</td>\n",
       "      <td>67.709953</td>\n",
       "      <td>2020-01-22</td>\n",
       "      <td>0</td>\n",
       "      <td>0</td>\n",
       "      <td>0</td>\n",
       "      <td>0</td>\n",
       "      <td>Eastern Mediterranean</td>\n",
       "    </tr>\n",
       "    <tr>\n",
       "      <th>1</th>\n",
       "      <td>NaN</td>\n",
       "      <td>Albania</td>\n",
       "      <td>41.153300</td>\n",
       "      <td>20.168300</td>\n",
       "      <td>2020-01-22</td>\n",
       "      <td>0</td>\n",
       "      <td>0</td>\n",
       "      <td>0</td>\n",
       "      <td>0</td>\n",
       "      <td>Europe</td>\n",
       "    </tr>\n",
       "    <tr>\n",
       "      <th>2</th>\n",
       "      <td>NaN</td>\n",
       "      <td>Algeria</td>\n",
       "      <td>28.033900</td>\n",
       "      <td>1.659600</td>\n",
       "      <td>2020-01-22</td>\n",
       "      <td>0</td>\n",
       "      <td>0</td>\n",
       "      <td>0</td>\n",
       "      <td>0</td>\n",
       "      <td>Africa</td>\n",
       "    </tr>\n",
       "    <tr>\n",
       "      <th>3</th>\n",
       "      <td>NaN</td>\n",
       "      <td>Andorra</td>\n",
       "      <td>42.506300</td>\n",
       "      <td>1.521800</td>\n",
       "      <td>2020-01-22</td>\n",
       "      <td>0</td>\n",
       "      <td>0</td>\n",
       "      <td>0</td>\n",
       "      <td>0</td>\n",
       "      <td>Europe</td>\n",
       "    </tr>\n",
       "    <tr>\n",
       "      <th>4</th>\n",
       "      <td>NaN</td>\n",
       "      <td>Angola</td>\n",
       "      <td>-11.202700</td>\n",
       "      <td>17.873900</td>\n",
       "      <td>2020-01-22</td>\n",
       "      <td>0</td>\n",
       "      <td>0</td>\n",
       "      <td>0</td>\n",
       "      <td>0</td>\n",
       "      <td>Africa</td>\n",
       "    </tr>\n",
       "    <tr>\n",
       "      <th>...</th>\n",
       "      <td>...</td>\n",
       "      <td>...</td>\n",
       "      <td>...</td>\n",
       "      <td>...</td>\n",
       "      <td>...</td>\n",
       "      <td>...</td>\n",
       "      <td>...</td>\n",
       "      <td>...</td>\n",
       "      <td>...</td>\n",
       "      <td>...</td>\n",
       "    </tr>\n",
       "    <tr>\n",
       "      <th>49063</th>\n",
       "      <td>NaN</td>\n",
       "      <td>Sao Tome and Principe</td>\n",
       "      <td>0.186400</td>\n",
       "      <td>6.613100</td>\n",
       "      <td>2020-07-27</td>\n",
       "      <td>865</td>\n",
       "      <td>14</td>\n",
       "      <td>734</td>\n",
       "      <td>117</td>\n",
       "      <td>Africa</td>\n",
       "    </tr>\n",
       "    <tr>\n",
       "      <th>49064</th>\n",
       "      <td>NaN</td>\n",
       "      <td>Yemen</td>\n",
       "      <td>15.552727</td>\n",
       "      <td>48.516388</td>\n",
       "      <td>2020-07-27</td>\n",
       "      <td>1691</td>\n",
       "      <td>483</td>\n",
       "      <td>833</td>\n",
       "      <td>375</td>\n",
       "      <td>Eastern Mediterranean</td>\n",
       "    </tr>\n",
       "    <tr>\n",
       "      <th>49065</th>\n",
       "      <td>NaN</td>\n",
       "      <td>Comoros</td>\n",
       "      <td>-11.645500</td>\n",
       "      <td>43.333300</td>\n",
       "      <td>2020-07-27</td>\n",
       "      <td>354</td>\n",
       "      <td>7</td>\n",
       "      <td>328</td>\n",
       "      <td>19</td>\n",
       "      <td>Africa</td>\n",
       "    </tr>\n",
       "    <tr>\n",
       "      <th>49066</th>\n",
       "      <td>NaN</td>\n",
       "      <td>Tajikistan</td>\n",
       "      <td>38.861000</td>\n",
       "      <td>71.276100</td>\n",
       "      <td>2020-07-27</td>\n",
       "      <td>7235</td>\n",
       "      <td>60</td>\n",
       "      <td>6028</td>\n",
       "      <td>1147</td>\n",
       "      <td>Europe</td>\n",
       "    </tr>\n",
       "    <tr>\n",
       "      <th>49067</th>\n",
       "      <td>NaN</td>\n",
       "      <td>Lesotho</td>\n",
       "      <td>-29.610000</td>\n",
       "      <td>28.233600</td>\n",
       "      <td>2020-07-27</td>\n",
       "      <td>505</td>\n",
       "      <td>12</td>\n",
       "      <td>128</td>\n",
       "      <td>365</td>\n",
       "      <td>Africa</td>\n",
       "    </tr>\n",
       "  </tbody>\n",
       "</table>\n",
       "<p>49068 rows × 10 columns</p>\n",
       "</div>"
      ],
      "text/plain": [
       "      Province/State         Country/Region        Lat       Long        Date  \\\n",
       "0                NaN            Afghanistan  33.939110  67.709953  2020-01-22   \n",
       "1                NaN                Albania  41.153300  20.168300  2020-01-22   \n",
       "2                NaN                Algeria  28.033900   1.659600  2020-01-22   \n",
       "3                NaN                Andorra  42.506300   1.521800  2020-01-22   \n",
       "4                NaN                 Angola -11.202700  17.873900  2020-01-22   \n",
       "...              ...                    ...        ...        ...         ...   \n",
       "49063            NaN  Sao Tome and Principe   0.186400   6.613100  2020-07-27   \n",
       "49064            NaN                  Yemen  15.552727  48.516388  2020-07-27   \n",
       "49065            NaN                Comoros -11.645500  43.333300  2020-07-27   \n",
       "49066            NaN             Tajikistan  38.861000  71.276100  2020-07-27   \n",
       "49067            NaN                Lesotho -29.610000  28.233600  2020-07-27   \n",
       "\n",
       "       Confirmed  Deaths  Recovered  Active             WHO Region  \n",
       "0              0       0          0       0  Eastern Mediterranean  \n",
       "1              0       0          0       0                 Europe  \n",
       "2              0       0          0       0                 Africa  \n",
       "3              0       0          0       0                 Europe  \n",
       "4              0       0          0       0                 Africa  \n",
       "...          ...     ...        ...     ...                    ...  \n",
       "49063        865      14        734     117                 Africa  \n",
       "49064       1691     483        833     375  Eastern Mediterranean  \n",
       "49065        354       7        328      19                 Africa  \n",
       "49066       7235      60       6028    1147                 Europe  \n",
       "49067        505      12        128     365                 Africa  \n",
       "\n",
       "[49068 rows x 10 columns]"
      ]
     },
     "execution_count": 32,
     "metadata": {},
     "output_type": "execute_result"
    }
   ],
   "source": [
    "covid_19"
   ]
  },
  {
   "cell_type": "code",
   "execution_count": 33,
   "id": "3c508035-3f6e-45c2-9e10-506fdd407b12",
   "metadata": {},
   "outputs": [
    {
     "data": {
      "text/plain": [
       "Province/State    34404\n",
       "Country/Region        0\n",
       "Lat                   0\n",
       "Long                  0\n",
       "Date                  0\n",
       "Confirmed             0\n",
       "Deaths                0\n",
       "Recovered             0\n",
       "Active                0\n",
       "WHO Region            0\n",
       "dtype: int64"
      ]
     },
     "execution_count": 33,
     "metadata": {},
     "output_type": "execute_result"
    }
   ],
   "source": [
    "covid_19.isnull().sum()"
   ]
  },
  {
   "cell_type": "code",
   "execution_count": 34,
   "id": "0d8392c7-477b-4210-a442-12e35d9e9334",
   "metadata": {},
   "outputs": [],
   "source": [
    "covid_19 = covid_19.drop(columns=[\"Province/State\"])"
   ]
  },
  {
   "cell_type": "code",
   "execution_count": 35,
   "id": "455adf66-4860-4b0a-9281-1f767c148efd",
   "metadata": {},
   "outputs": [],
   "source": [
    "covid_19 = covid_19.rename(columns={'Country/Region': 'Country'})"
   ]
  },
  {
   "cell_type": "code",
   "execution_count": 36,
   "id": "fb969392-3faf-465f-be97-db54022799b4",
   "metadata": {
    "scrolled": true
   },
   "outputs": [
    {
     "data": {
      "text/html": [
       "<div>\n",
       "<style scoped>\n",
       "    .dataframe tbody tr th:only-of-type {\n",
       "        vertical-align: middle;\n",
       "    }\n",
       "\n",
       "    .dataframe tbody tr th {\n",
       "        vertical-align: top;\n",
       "    }\n",
       "\n",
       "    .dataframe thead th {\n",
       "        text-align: right;\n",
       "    }\n",
       "</style>\n",
       "<table border=\"1\" class=\"dataframe\">\n",
       "  <thead>\n",
       "    <tr style=\"text-align: right;\">\n",
       "      <th></th>\n",
       "      <th>Country</th>\n",
       "      <th>Lat</th>\n",
       "      <th>Long</th>\n",
       "      <th>Date</th>\n",
       "      <th>Confirmed</th>\n",
       "      <th>Deaths</th>\n",
       "      <th>Recovered</th>\n",
       "      <th>Active</th>\n",
       "      <th>WHO Region</th>\n",
       "    </tr>\n",
       "  </thead>\n",
       "  <tbody>\n",
       "    <tr>\n",
       "      <th>0</th>\n",
       "      <td>Afghanistan</td>\n",
       "      <td>33.939110</td>\n",
       "      <td>67.709953</td>\n",
       "      <td>2020-01-22</td>\n",
       "      <td>0</td>\n",
       "      <td>0</td>\n",
       "      <td>0</td>\n",
       "      <td>0</td>\n",
       "      <td>Eastern Mediterranean</td>\n",
       "    </tr>\n",
       "    <tr>\n",
       "      <th>1</th>\n",
       "      <td>Albania</td>\n",
       "      <td>41.153300</td>\n",
       "      <td>20.168300</td>\n",
       "      <td>2020-01-22</td>\n",
       "      <td>0</td>\n",
       "      <td>0</td>\n",
       "      <td>0</td>\n",
       "      <td>0</td>\n",
       "      <td>Europe</td>\n",
       "    </tr>\n",
       "    <tr>\n",
       "      <th>2</th>\n",
       "      <td>Algeria</td>\n",
       "      <td>28.033900</td>\n",
       "      <td>1.659600</td>\n",
       "      <td>2020-01-22</td>\n",
       "      <td>0</td>\n",
       "      <td>0</td>\n",
       "      <td>0</td>\n",
       "      <td>0</td>\n",
       "      <td>Africa</td>\n",
       "    </tr>\n",
       "    <tr>\n",
       "      <th>3</th>\n",
       "      <td>Andorra</td>\n",
       "      <td>42.506300</td>\n",
       "      <td>1.521800</td>\n",
       "      <td>2020-01-22</td>\n",
       "      <td>0</td>\n",
       "      <td>0</td>\n",
       "      <td>0</td>\n",
       "      <td>0</td>\n",
       "      <td>Europe</td>\n",
       "    </tr>\n",
       "    <tr>\n",
       "      <th>4</th>\n",
       "      <td>Angola</td>\n",
       "      <td>-11.202700</td>\n",
       "      <td>17.873900</td>\n",
       "      <td>2020-01-22</td>\n",
       "      <td>0</td>\n",
       "      <td>0</td>\n",
       "      <td>0</td>\n",
       "      <td>0</td>\n",
       "      <td>Africa</td>\n",
       "    </tr>\n",
       "    <tr>\n",
       "      <th>...</th>\n",
       "      <td>...</td>\n",
       "      <td>...</td>\n",
       "      <td>...</td>\n",
       "      <td>...</td>\n",
       "      <td>...</td>\n",
       "      <td>...</td>\n",
       "      <td>...</td>\n",
       "      <td>...</td>\n",
       "      <td>...</td>\n",
       "    </tr>\n",
       "    <tr>\n",
       "      <th>49063</th>\n",
       "      <td>Sao Tome and Principe</td>\n",
       "      <td>0.186400</td>\n",
       "      <td>6.613100</td>\n",
       "      <td>2020-07-27</td>\n",
       "      <td>865</td>\n",
       "      <td>14</td>\n",
       "      <td>734</td>\n",
       "      <td>117</td>\n",
       "      <td>Africa</td>\n",
       "    </tr>\n",
       "    <tr>\n",
       "      <th>49064</th>\n",
       "      <td>Yemen</td>\n",
       "      <td>15.552727</td>\n",
       "      <td>48.516388</td>\n",
       "      <td>2020-07-27</td>\n",
       "      <td>1691</td>\n",
       "      <td>483</td>\n",
       "      <td>833</td>\n",
       "      <td>375</td>\n",
       "      <td>Eastern Mediterranean</td>\n",
       "    </tr>\n",
       "    <tr>\n",
       "      <th>49065</th>\n",
       "      <td>Comoros</td>\n",
       "      <td>-11.645500</td>\n",
       "      <td>43.333300</td>\n",
       "      <td>2020-07-27</td>\n",
       "      <td>354</td>\n",
       "      <td>7</td>\n",
       "      <td>328</td>\n",
       "      <td>19</td>\n",
       "      <td>Africa</td>\n",
       "    </tr>\n",
       "    <tr>\n",
       "      <th>49066</th>\n",
       "      <td>Tajikistan</td>\n",
       "      <td>38.861000</td>\n",
       "      <td>71.276100</td>\n",
       "      <td>2020-07-27</td>\n",
       "      <td>7235</td>\n",
       "      <td>60</td>\n",
       "      <td>6028</td>\n",
       "      <td>1147</td>\n",
       "      <td>Europe</td>\n",
       "    </tr>\n",
       "    <tr>\n",
       "      <th>49067</th>\n",
       "      <td>Lesotho</td>\n",
       "      <td>-29.610000</td>\n",
       "      <td>28.233600</td>\n",
       "      <td>2020-07-27</td>\n",
       "      <td>505</td>\n",
       "      <td>12</td>\n",
       "      <td>128</td>\n",
       "      <td>365</td>\n",
       "      <td>Africa</td>\n",
       "    </tr>\n",
       "  </tbody>\n",
       "</table>\n",
       "<p>49068 rows × 9 columns</p>\n",
       "</div>"
      ],
      "text/plain": [
       "                     Country        Lat       Long        Date  Confirmed  \\\n",
       "0                Afghanistan  33.939110  67.709953  2020-01-22          0   \n",
       "1                    Albania  41.153300  20.168300  2020-01-22          0   \n",
       "2                    Algeria  28.033900   1.659600  2020-01-22          0   \n",
       "3                    Andorra  42.506300   1.521800  2020-01-22          0   \n",
       "4                     Angola -11.202700  17.873900  2020-01-22          0   \n",
       "...                      ...        ...        ...         ...        ...   \n",
       "49063  Sao Tome and Principe   0.186400   6.613100  2020-07-27        865   \n",
       "49064                  Yemen  15.552727  48.516388  2020-07-27       1691   \n",
       "49065                Comoros -11.645500  43.333300  2020-07-27        354   \n",
       "49066             Tajikistan  38.861000  71.276100  2020-07-27       7235   \n",
       "49067                Lesotho -29.610000  28.233600  2020-07-27        505   \n",
       "\n",
       "       Deaths  Recovered  Active             WHO Region  \n",
       "0           0          0       0  Eastern Mediterranean  \n",
       "1           0          0       0                 Europe  \n",
       "2           0          0       0                 Africa  \n",
       "3           0          0       0                 Europe  \n",
       "4           0          0       0                 Africa  \n",
       "...       ...        ...     ...                    ...  \n",
       "49063      14        734     117                 Africa  \n",
       "49064     483        833     375  Eastern Mediterranean  \n",
       "49065       7        328      19                 Africa  \n",
       "49066      60       6028    1147                 Europe  \n",
       "49067      12        128     365                 Africa  \n",
       "\n",
       "[49068 rows x 9 columns]"
      ]
     },
     "execution_count": 36,
     "metadata": {},
     "output_type": "execute_result"
    }
   ],
   "source": [
    "covid_19"
   ]
  },
  {
   "cell_type": "code",
   "execution_count": 37,
   "id": "42506a26-0bac-45c4-9a97-e385e416a1bf",
   "metadata": {},
   "outputs": [
    {
     "data": {
      "text/plain": [
       "dtype('O')"
      ]
     },
     "execution_count": 37,
     "metadata": {},
     "output_type": "execute_result"
    }
   ],
   "source": [
    "covid_19['Date'].dtype"
   ]
  },
  {
   "cell_type": "code",
   "execution_count": 38,
   "id": "434aaeb7-1dfa-4d66-a157-316e10e3d3ab",
   "metadata": {},
   "outputs": [
    {
     "name": "stdout",
     "output_type": "stream",
     "text": [
      "<class 'pandas.core.frame.DataFrame'>\n",
      "RangeIndex: 49068 entries, 0 to 49067\n",
      "Data columns (total 9 columns):\n",
      " #   Column      Non-Null Count  Dtype  \n",
      "---  ------      --------------  -----  \n",
      " 0   Country     49068 non-null  object \n",
      " 1   Lat         49068 non-null  float64\n",
      " 2   Long        49068 non-null  float64\n",
      " 3   Date        49068 non-null  object \n",
      " 4   Confirmed   49068 non-null  int64  \n",
      " 5   Deaths      49068 non-null  int64  \n",
      " 6   Recovered   49068 non-null  int64  \n",
      " 7   Active      49068 non-null  int64  \n",
      " 8   WHO Region  49068 non-null  object \n",
      "dtypes: float64(2), int64(4), object(3)\n",
      "memory usage: 3.4+ MB\n"
     ]
    }
   ],
   "source": [
    "covid_19.info()"
   ]
  },
  {
   "cell_type": "code",
   "execution_count": 39,
   "id": "62638cc9-afce-4a38-96f7-9b9c4dbf68de",
   "metadata": {},
   "outputs": [
    {
     "data": {
      "text/plain": [
       "0    2020-01-22\n",
       "1    2020-01-22\n",
       "2    2020-01-22\n",
       "3    2020-01-22\n",
       "4    2020-01-22\n",
       "Name: Date, dtype: object"
      ]
     },
     "execution_count": 39,
     "metadata": {},
     "output_type": "execute_result"
    }
   ],
   "source": [
    "covid_19['Date'].head()"
   ]
  },
  {
   "cell_type": "code",
   "execution_count": 40,
   "id": "f331ab5a-06f5-46dc-8bca-4a80f73fcbe7",
   "metadata": {},
   "outputs": [
    {
     "data": {
      "image/png": "[encoded data removed]",
      "text/plain": [
       "<Figure size 800x600 with 2 Axes>"
      ]
     },
     "metadata": {},
     "output_type": "display_data"
    },
    {
     "data": {
      "text/plain": [
       "' The mapping below shows strong positive relationships among TotalCases, TotalDeaths, ActiveCases, TotalRecovered, and SeriousCritical. \\nThese variables are highly correlated, with correlation values close to 1.\\nThis means that as the total number of cases increases, the number of deaths, recoveries, active cases, and serious/critical cases also increases.\\nAdditionally, the high correlation (~0.98) indicates that the number of cases is strongly proportional to the population size.\\nThe chart also reveals a weak negative correlation between population and the mortality ratio (~-0.05). \\nThis suggests that population size does not directly affect mortality rates. \\nThis was also observed in the bar chart, where the USA recorded the highest number of cases, whereas India had the highest population.\\nThe mapping also showed that the mortality ratio does not correlate with many variables.\\nThis may suggest that other factors, such as healthcare quality and age distribution, might play a more significant role in mortality.\\nFurthermore, other factors such as Total Cases Per Million, Deaths Cases Per Million, \\nand Test Cases Per Million show no strong relationship with TotalCases, TotalDeaths, TotalRecovered, ActiveCases, and SeriousCritical.\\n'"
      ]
     },
     "execution_count": 40,
     "metadata": {},
     "output_type": "execute_result"
    }
   ],
   "source": [
    "numerical_worldmeter = worldmeter.select_dtypes(include=['float64', 'int64'])\n",
    "correlation_matrix = numerical_worldmeter.corr()\n",
    "\n",
    "plt.figure(figsize=(8, 6))\n",
    "sns.heatmap(correlation_matrix, annot=True, cmap='coolwarm')\n",
    "plt.title('Correlation Matrix')\n",
    "plt.show()\n",
    "\"\"\" The mapping below shows strong positive relationships among TotalCases, TotalDeaths, ActiveCases, TotalRecovered, and SeriousCritical. \n",
    "These variables are highly correlated, with correlation values close to 1.\n",
    "This means that as the total number of cases increases, the number of deaths, recoveries, active cases, and serious/critical cases also increases.\n",
    "Additionally, the high correlation (~0.98) indicates that the number of cases is strongly proportional to the population size.\n",
    "The chart also reveals a weak negative correlation between population and the mortality ratio (~-0.05). \n",
    "This suggests that population size does not directly affect mortality rates. \n",
    "This was also observed in the bar chart, where the USA recorded the highest number of cases, whereas India had the highest population.\n",
    "The mapping also showed that the mortality ratio does not correlate with many variables.\n",
    "This may suggest that other factors, such as healthcare quality and age distribution, might play a more significant role in mortality.\n",
    "Furthermore, other factors such as Total Cases Per Million, Deaths Cases Per Million, \n",
    "and Test Cases Per Million show no strong relationship with TotalCases, TotalDeaths, TotalRecovered, ActiveCases, and SeriousCritical.\n",
    "\"\"\""
   ]
  },
  {
   "cell_type": "code",
   "execution_count": 41,
   "id": "556fef69-8744-4585-bf95-862284f9d580",
   "metadata": {},
   "outputs": [
    {
     "data": {
      "image/png": "[encoded data removed]",
      "text/plain": [
       "<Figure size 1000x600 with 1 Axes>"
      ]
     },
     "metadata": {},
     "output_type": "display_data"
    },
    {
     "data": {
      "text/plain": [
       "' The outliers show some countries with an unusually high number of COVID-19 cases compared to most other countries. \\nThis result was also observed in the first bar chart, where the USA displayed an unusually high number of COVID-19 cases. \\nEurope, on the other hand, shows a high mortality rate, whereas Africa shows a high recovery ratio.\\nThe outliers could be due to factors such as increased population in some areas, low total cases in others, \\nand strong healthcare systems in certain regions.'"
      ]
     },
     "execution_count": 41,
     "metadata": {},
     "output_type": "execute_result"
    }
   ],
   "source": [
    "worldmeter = worldmeter[['TotalCases', 'TotalDeaths', 'TotalRecovered']]\n",
    "\n",
    "plt.figure(figsize=(10, 6))\n",
    "sns.boxplot(data=worldmeter, palette='Set2')\n",
    "\n",
    "plt.title('Comparison of Outliers for Total Cases, Deaths, and Recovered', fontsize=14)\n",
    "plt.xlabel('Metrics', fontsize=12)\n",
    "plt.ylabel('Values', fontsize=12)\n",
    "\n",
    "plt.show()\n",
    "\"\"\" The outliers show some countries with an unusually high number of COVID-19 cases compared to most other countries. \n",
    "This result was also observed in the first bar chart, where the USA displayed an unusually high number of COVID-19 cases. \n",
    "Europe, on the other hand, shows a high mortality rate, whereas Africa shows a high recovery ratio.\n",
    "The outliers could be due to factors such as increased population in some areas, low total cases in others, \n",
    "and strong healthcare systems in certain regions.\"\"\""
   ]
  },
  {
   "cell_type": "code",
   "execution_count": 42,
   "id": "5bd89d32-4549-460b-a63b-7497f70a21c2",
   "metadata": {},
   "outputs": [],
   "source": [
    "covid_19['Date'] = pd.to_datetime(covid_19['Date'])\n",
    "time_series_data = covid_19.groupby('Date')['Active'].sum().reset_index()"
   ]
  },
  {
   "cell_type": "code",
   "execution_count": 43,
   "id": "60d4a27b-b77a-4192-837b-62545c954add",
   "metadata": {},
   "outputs": [
    {
     "name": "stderr",
     "output_type": "stream",
     "text": [
      "20:32:40 - cmdstanpy - INFO - Chain [1] start processing\n",
      "20:32:41 - cmdstanpy - INFO - Chain [1] done processing\n"
     ]
    },
    {
     "data": {
      "image/png": "[encoded data removed]",
      "text/plain": [
       "<Figure size 1000x600 with 1 Axes>"
      ]
     },
     "metadata": {},
     "output_type": "display_data"
    },
    {
     "data": {
      "text/plain": [
       "' This prediction was based on observations carried out over the last 7 months and is meant to forecast what will likely\\nhappen in the next 3 months. It shows an increase in COVID-19 cases during this period.\\nThe shaded area of the chart represents uncertainty in the predicted increase of COVID-19 cases, \\ninfluenced by factors such as improvements in the health sector, the availability of vaccines, and virus mutations. '"
      ]
     },
     "execution_count": 43,
     "metadata": {},
     "output_type": "execute_result"
    }
   ],
   "source": [
    "time_series_data.rename(columns={'Date': 'ds', 'Active': 'y'}, inplace=True)\n",
    "model = Prophet()\n",
    "model.fit(time_series_data)\n",
    "future = model.make_future_dataframe(periods=90)  # Forecast for 3 months\n",
    "forecast = model.predict(future)\n",
    "model.plot(forecast)\n",
    "plt.title('COVID-19 Cases Forecast')\n",
    "plt.show()\n",
    "\"\"\" This prediction was based on observations carried out over the last 7 months and is meant to forecast what will likely\n",
    "happen in the next 3 months. It shows an increase in COVID-19 cases during this period.\n",
    "The shaded area of the chart represents uncertainty in the predicted increase of COVID-19 cases, \n",
    "influenced by factors such as improvements in the health sector, the availability of vaccines, and virus mutations. \"\"\""
   ]
  },
  {
   "cell_type": "code",
   "execution_count": 1,
   "id": "7ff16fee-008b-4fc0-b255-4ca6f1325dd1",
   "metadata": {},
   "outputs": [
    {
     "ename": "NameError",
     "evalue": "name 'covid_19' is not defined",
     "output_type": "error",
     "traceback": [
      "\u001b[1;31m---------------------------------------------------------------------------\u001b[0m",
      "\u001b[1;31mNameError\u001b[0m                                 Traceback (most recent call last)",
      "Cell \u001b[1;32mIn[1], line 1\u001b[0m\n\u001b[1;32m----> 1\u001b[0m covid_19 \u001b[38;5;241m=\u001b[39m covid_19[[\u001b[38;5;124m'\u001b[39m\u001b[38;5;124mDate\u001b[39m\u001b[38;5;124m'\u001b[39m, \u001b[38;5;124m'\u001b[39m\u001b[38;5;124mActive\u001b[39m\u001b[38;5;124m'\u001b[39m]]\n\u001b[0;32m      2\u001b[0m covid_19\u001b[38;5;241m.\u001b[39mrename(columns\u001b[38;5;241m=\u001b[39m{\u001b[38;5;124m'\u001b[39m\u001b[38;5;124mDate\u001b[39m\u001b[38;5;124m'\u001b[39m: \u001b[38;5;124m'\u001b[39m\u001b[38;5;124mds\u001b[39m\u001b[38;5;124m'\u001b[39m, \u001b[38;5;124m'\u001b[39m\u001b[38;5;124mActive\u001b[39m\u001b[38;5;124m'\u001b[39m: \u001b[38;5;124m'\u001b[39m\u001b[38;5;124my\u001b[39m\u001b[38;5;124m'\u001b[39m}, inplace\u001b[38;5;241m=\u001b[39m\u001b[38;5;28;01mTrue\u001b[39;00m)\n\u001b[0;32m      3\u001b[0m covid_19\u001b[38;5;241m.\u001b[39mhead()\n",
      "\u001b[1;31mNameError\u001b[0m: name 'covid_19' is not defined"
     ]
    }
   ],
   "source": [
    "covid_19 = covid_19[['Date', 'Active']]\n",
    "covid_19.rename(columns={'Date': 'ds', 'Active': 'y'}, inplace=True)\n",
    "covid_19.head()\n",
    "\n",
    "\"\"\" at this point, I select the relevant columns to check for accuracy in the above prediction. \"\"\"\n"
   ]
  },
  {
   "cell_type": "code",
   "execution_count": 45,
   "id": "7bbd3844-8a25-4936-837e-b7378253d9e5",
   "metadata": {},
   "outputs": [
    {
     "data": {
      "text/plain": [
       "' merged the data was neccessay due to the inconsistency in the dataset. '"
      ]
     },
     "execution_count": 45,
     "metadata": {},
     "output_type": "execute_result"
    }
   ],
   "source": [
    "merged_data = pd.merge(covid_19[['ds', 'y']], forecast[['ds', 'yhat']], on='ds', how='inner')\n",
    "y_true = merged_data['y']\n",
    "y_pred = merged_data['yhat']\n",
    "dates = merged_data['ds']\n",
    "\"\"\" merged the data was neccessay due to the inconsistency in the dataset. \"\"\""
   ]
  },
  {
   "cell_type": "code",
   "execution_count": 46,
   "id": "372c95b9-bc98-475e-b1b8-91276be51975",
   "metadata": {},
   "outputs": [
    {
     "data": {
      "image/png": "[encoded data removed]",
      "text/plain": [
       "<Figure size 1000x600 with 1 Axes>"
      ]
     },
     "metadata": {},
     "output_type": "display_data"
    },
    {
     "data": {
      "text/plain": [
       "' the model performance accuracy also predicts that COVID-19 cases will continue to rise,\\nas seen from the upward-sloping forecast line. The blue shaded area represents the range of possible cases in the future.'"
      ]
     },
     "execution_count": 46,
     "metadata": {},
     "output_type": "execute_result"
    }
   ],
   "source": [
    "min_len = min(len(y_true), len(y_pred))\n",
    "y_true = y_true[:min_len]\n",
    "y_pred = y_pred[:min_len]\n",
    "dates = covid_19['ds'][:min_len]\n",
    "plt.figure(figsize=(10, 6))\n",
    "plt.plot(dates, y_true, label='Actual', color='blue')\n",
    "plt.plot(dates, y_pred, label='Predicted', color='red')\n",
    "plt.legend()\n",
    "plt.title('Actual vs Predicted Values')\n",
    "plt.xlabel('Date')\n",
    "plt.ylabel('Values')\n",
    "plt.show()\n",
    "\"\"\" the model performance accuracy also predicts that COVID-19 cases will continue to rise,\n",
    "as seen from the upward-sloping forecast line. The blue shaded area represents the range of possible cases in the future.\"\"\""
   ]
  },
  {
   "cell_type": "code",
   "execution_count": 52,
   "id": "d8a58323-b766-4e4c-8cf7-1a4bada935c1",
   "metadata": {},
   "outputs": [
    {
     "data": {
      "image/png": "[encoded data removed]",
      "text/plain": [
       "<Figure size 1000x600 with 1 Axes>"
      ]
     },
     "metadata": {},
     "output_type": "display_data"
    }
   ],
   "source": [
    "plt.figure(figsize=(10, 6))\n",
    "sns.lineplot(data=covid_19, x='ds', y='y', color='blue')\n",
    "plt.title('Time Series Trend', fontsize=16)\n",
    "plt.xlabel('Date', fontsize=14)\n",
    "plt.ylabel('Value', fontsize=14)\n",
    "plt.xticks(rotation=45)  # Rotate x-axis labels for better readability\n",
    "plt.grid(alpha=0.3)\n",
    "plt.tight_layout()\n",
    "plt.show()"
   ]
  },
  {
   "cell_type": "markdown",
   "id": "3620e43a-411f-444e-a91a-a091db747378",
   "metadata": {},
   "source": [
    "# In conclusion"
   ]
  },
  {
   "cell_type": "code",
   "execution_count": 76,
   "id": "81c4c20b-232b-4931-b504-afe3faf0fc01",
   "metadata": {},
   "outputs": [
    {
     "data": {
      "text/plain": [
       "' This report provides a detailed analysis of the relationship between population size and the number of COVID-19 cases across 20 countries. \\nI explore various stages of the data analysis pipeline, from data preparation and exploratory data analysis (EDA)\\nto model development, evaluation, and key insights. The objective is to determine the COVID-19 trend and whether an increase in population\\ncorrelates with an increase in COVID-19 cases.\\n\\nthe source of the dataset was obtained fron Kaggle. I downloaded a zip file and from the zip file, I got two datasets(worldmeter, covid 19) \\nwhich I used for the analysis.the worldmeter dataset comprises total cases, active cases, population, coutries, region \\nand so on. i selected 20, and 10 countries for this study the contries are: USA, India, Brazil, Russia, Turkey, France, Italy,\\nGermany, UK, and Spain.\\n\\nBefore starting the analysis, the data underwent some key steps of cleaning and preparation:\\nHandling Missing Value to deal with incomplete dat. this was important to addressed and ensure the accuracy of the analysis.\\ni also ensure  Consistency Data from multiple sources was standardized to avoid discrepancies, ensuring a uniform structure for analysis.\\n\\nThis report provides an analysis of COVID-19 cases across different countries, \\nwith a focus on the relationship between key variables such as total cases, deaths, recoveries, and active cases.\\nThe goal of this analysis is to offer insights into the COVID-19 trend and future projections. Using machine learning models,\\nthe forecast was based on the number of COVID-19 cases for the next 6 months. the analysis made use of worldmeter dataset to determine\\nthe country with high COVID-19 cases. I also use a bar chart with a scatter plot to estimate whether the increase in population\\nleads to an increase in the number of cases. the report has no strong correlation between population and total covid 19 cases and it reviews an \\noutlier. i also use mapping. the mapping shows strong positive relationships among TotalCases, TotalDeaths, ActiveCases, TotalRecovered, and SeriousCritical. \\nThese variables are highly correlated, with correlation values close to 1.\\nThis means that as the total number of cases increases, the number of deaths, recoveries, active cases, and serious/critical cases also increases.\\nAdditionally, the high correlation (~0.98) indicates that the number of cases is strongly proportional to the population size.\\nmy prediction was based on observations carried out over the last 7 months and is meant to forecast what will likely\\nhappen in the next 6 months. It shows an increase in COVID-19 cases during this period.\\n: The regression results showed a positive relationship, confirming that as population size increases, \\nthe expected COVID-19 cases also increase. The R-squared value from the model was high, indicating that the \\npopulation size explains a significant proportion of the variation in COVID-19 cases.'"
      ]
     },
     "execution_count": 76,
     "metadata": {},
     "output_type": "execute_result"
    }
   ],
   "source": [
    "\"\"\" This report provides a detailed analysis of the relationship between population size and the number of COVID-19 cases across 20 countries. \n",
    "I explore various stages of the data analysis pipeline, from data preparation and exploratory data analysis (EDA)\n",
    "to model development, evaluation, and key insights. The objective is to determine the COVID-19 trend and whether an increase in population\n",
    "correlates with an increase in COVID-19 cases.\n",
    "\n",
    "the source of the dataset was obtained fron Kaggle. I downloaded a zip file and from the zip file, I got two datasets(worldmeter, covid 19) \n",
    "which I used for the analysis.the worldmeter dataset comprises total cases, active cases, population, coutries, region \n",
    "and so on. i selected 20, and 10 countries for this study the contries are: USA, India, Brazil, Russia, Turkey, France, Italy,\n",
    "Germany, UK, and Spain.\n",
    "\n",
    "Before starting the analysis, the data underwent some key steps of cleaning and preparation:\n",
    "Handling Missing Value to deal with incomplete dat. this was important to addressed and ensure the accuracy of the analysis.\n",
    "i also ensure  Consistency Data from multiple sources was standardized to avoid discrepancies, ensuring a uniform structure for analysis.\n",
    "\n",
    "This report provides an analysis of COVID-19 cases across different countries, \n",
    "with a focus on the relationship between key variables such as total cases, deaths, recoveries, and active cases.\n",
    "The goal of this analysis is to offer insights into the COVID-19 trend and future projections. Using machine learning models,\n",
    "the forecast was based on the number of COVID-19 cases for the next 6 months. the analysis made use of worldmeter dataset to determine\n",
    "the country with high COVID-19 cases. I also use a bar chart with a scatter plot to estimate whether the increase in population\n",
    "leads to an increase in the number of cases. the report has no strong correlation between population and total covid 19 cases and it reviews an \n",
    "outlier. i also use mapping. the mapping shows strong positive relationships among TotalCases, TotalDeaths, ActiveCases, TotalRecovered, and SeriousCritical. \n",
    "These variables are highly correlated, with correlation values close to 1.\n",
    "This means that as the total number of cases increases, the number of deaths, recoveries, active cases, and serious/critical cases also increases.\n",
    "Additionally, the high correlation (~0.98) indicates that the number of cases is strongly proportional to the population size.\n",
    "my prediction was based on observations carried out over the last 7 months and is meant to forecast what will likely\n",
    "happen in the next 6 months. It shows an increase in COVID-19 cases during this period.\n",
    ": The regression results showed a positive relationship, confirming that as population size increases, \n",
    "the expected COVID-19 cases also increase. The R-squared value from the model was high, indicating that the \n",
    "population size explains a significant proportion of the variation in COVID-19 cases.\"\"\""
   ]
  },
  {
   "cell_type": "code",
   "execution_count": null,
   "id": "273f9847-81b6-4cd1-9402-912eae74f2f7",
   "metadata": {},
   "outputs": [],
   "source": []
  },
  {
   "cell_type": "code",
   "execution_count": null,
   "id": "54bce992-c078-410f-a542-edc76fdc0778",
   "metadata": {},
   "outputs": [],
   "source": []
  },
  {
   "cell_type": "code",
   "execution_count": null,
   "id": "cb62fef2-75c7-4586-86e9-188c31362c85",
   "metadata": {},
   "outputs": [],
   "source": []
  },
  {
   "cell_type": "code",
   "execution_count": null,
   "id": "db8884fa-32a8-40ad-b2ca-5aed06658079",
   "metadata": {},
   "outputs": [],
   "source": []
  },
  {
   "cell_type": "code",
   "execution_count": null,
   "id": "9413b731-2a56-4e48-8e08-9a1399fec79c",
   "metadata": {},
   "outputs": [],
   "source": []
  },
  {
   "cell_type": "code",
   "execution_count": null,
   "id": "5cd3a6fb-4f6c-4d20-9b75-8482dbc7db3e",
   "metadata": {},
   "outputs": [],
   "source": []
  },
  {
   "cell_type": "code",
   "execution_count": null,
   "id": "2ca03798-738f-4826-bfd0-532f9835a64c",
   "metadata": {},
   "outputs": [],
   "source": []
  },
  {
   "cell_type": "code",
   "execution_count": null,
   "id": "8c88559c-abbc-4aea-9ed3-a63e5473f2f5",
   "metadata": {},
   "outputs": [],
   "source": []
  },
  {
   "cell_type": "code",
   "execution_count": null,
   "id": "c4b07cdd-bc4b-47d9-8238-db15a2daaabd",
   "metadata": {},
   "outputs": [],
   "source": []
  },
  {
   "cell_type": "code",
   "execution_count": null,
   "id": "881794ad-bc7a-4365-a210-ad70aabdee25",
   "metadata": {},
   "outputs": [],
   "source": []
  },
  {
   "cell_type": "code",
   "execution_count": null,
   "id": "eda6dea6-eb07-4668-a1a3-3fd4fd1cf49f",
   "metadata": {},
   "outputs": [],
   "source": []
  },
  {
   "cell_type": "code",
   "execution_count": null,
   "id": "62852b37-5dfd-416f-b054-9cce8486846c",
   "metadata": {},
   "outputs": [],
   "source": []
  },
  {
   "cell_type": "code",
   "execution_count": null,
   "id": "8be3b4c1-d409-4290-9ca7-bd36cdf866ee",
   "metadata": {},
   "outputs": [],
   "source": []
  },
  {
   "cell_type": "code",
   "execution_count": null,
   "id": "2823f035-07dd-413c-a7e6-b7c0d557d2db",
   "metadata": {},
   "outputs": [],
   "source": []
  },
  {
   "cell_type": "code",
   "execution_count": null,
   "id": "1dd0018d-6845-47f5-8622-f44908d28d1d",
   "metadata": {},
   "outputs": [],
   "source": []
  },
  {
   "cell_type": "code",
   "execution_count": null,
   "id": "95557573-9d1e-4333-ab19-49dc82c16dd1",
   "metadata": {},
   "outputs": [],
   "source": []
  },
  {
   "cell_type": "code",
   "execution_count": null,
   "id": "b17f1cf7-6df8-4a12-ac27-0979fde01209",
   "metadata": {},
   "outputs": [],
   "source": []
  },
  {
   "cell_type": "code",
   "execution_count": null,
   "id": "229ed64e-f327-4fdc-a6bc-111bc95e9055",
   "metadata": {},
   "outputs": [],
   "source": []
  },
  {
   "cell_type": "code",
   "execution_count": null,
   "id": "f9c12520-0d81-4423-822b-81894c60482d",
   "metadata": {},
   "outputs": [],
   "source": []
  },
  {
   "cell_type": "code",
   "execution_count": null,
   "id": "16b08381-121d-4897-9f0f-02183f1e585a",
   "metadata": {},
   "outputs": [],
   "source": []
  },
  {
   "cell_type": "code",
   "execution_count": null,
   "id": "0b02b2ad-3954-4b30-8016-3ca0d7414a73",
   "metadata": {},
   "outputs": [],
   "source": []
  },
  {
   "cell_type": "code",
   "execution_count": null,
   "id": "21cdbfe2-6e53-4d36-b2d6-34675fad8690",
   "metadata": {},
   "outputs": [],
   "source": []
  },
  {
   "cell_type": "code",
   "execution_count": null,
   "id": "7cf75934-90bd-43dd-8f35-d3f33e7be017",
   "metadata": {},
   "outputs": [],
   "source": []
  },
  {
   "cell_type": "code",
   "execution_count": null,
   "id": "3e648e91-1c38-40b8-89a9-9eb36a446019",
   "metadata": {},
   "outputs": [],
   "source": []
  },
  {
   "cell_type": "code",
   "execution_count": null,
   "id": "191a5e4c-9ba6-42d4-9c47-491e43e25309",
   "metadata": {},
   "outputs": [],
   "source": []
  },
  {
   "cell_type": "code",
   "execution_count": null,
   "id": "d54ccac4-700c-47cb-849c-88424aa16a7f",
   "metadata": {},
   "outputs": [],
   "source": []
  },
  {
   "cell_type": "code",
   "execution_count": null,
   "id": "5c4b05a4-3e3c-4028-ac35-216367c9025f",
   "metadata": {},
   "outputs": [],
   "source": []
  },
  {
   "cell_type": "code",
   "execution_count": null,
   "id": "fd2e1da9-c945-4041-873b-a2d75a3b7942",
   "metadata": {},
   "outputs": [],
   "source": []
  },
  {
   "cell_type": "code",
   "execution_count": null,
   "id": "1055e0cb-d9f9-4f94-b941-e708478b7aea",
   "metadata": {},
   "outputs": [],
   "source": []
  },
  {
   "cell_type": "code",
   "execution_count": null,
   "id": "838704d8-2195-40f8-b210-3410c8b5ffb8",
   "metadata": {},
   "outputs": [],
   "source": []
  },
  {
   "cell_type": "code",
   "execution_count": null,
   "id": "2909a6c4-500f-4994-b2aa-b4b8532dfbdb",
   "metadata": {},
   "outputs": [],
   "source": []
  },
  {
   "cell_type": "code",
   "execution_count": null,
   "id": "814c80b0-09ec-4a8c-89e3-8b4f4530c5d9",
   "metadata": {},
   "outputs": [],
   "source": []
  },
  {
   "cell_type": "code",
   "execution_count": null,
   "id": "873957c1-de0a-41d8-8f50-328040e4a39d",
   "metadata": {},
   "outputs": [],
   "source": []
  },
  {
   "cell_type": "code",
   "execution_count": null,
   "id": "c40b97c9-e0e4-4659-95b0-266c2a3d5b99",
   "metadata": {},
   "outputs": [],
   "source": []
  },
  {
   "cell_type": "code",
   "execution_count": null,
   "id": "0de6eaee-f627-4d38-b5b7-c7152604da9b",
   "metadata": {},
   "outputs": [],
   "source": []
  },
  {
   "cell_type": "code",
   "execution_count": null,
   "id": "5e1f4d2f-89df-47b2-8e18-a8d96216d9e6",
   "metadata": {},
   "outputs": [],
   "source": []
  },
  {
   "cell_type": "code",
   "execution_count": null,
   "id": "d1146eb0-f039-4824-a892-3bc8df7d614d",
   "metadata": {},
   "outputs": [],
   "source": []
  },
  {
   "cell_type": "code",
   "execution_count": null,
   "id": "dd84aff8-ef98-4c70-9b94-3b24519142f4",
   "metadata": {},
   "outputs": [],
   "source": []
  },
  {
   "cell_type": "code",
   "execution_count": null,
   "id": "608ceb6f-5f1a-4024-9fed-f5a32ad2cd93",
   "metadata": {},
   "outputs": [],
   "source": []
  },
  {
   "cell_type": "code",
   "execution_count": null,
   "id": "2e182e15-af99-46cd-bc64-7576002a7121",
   "metadata": {},
   "outputs": [],
   "source": []
  },
  {
   "cell_type": "code",
   "execution_count": null,
   "id": "df8f36ad-c502-4af3-8390-0ef79cba030b",
   "metadata": {},
   "outputs": [],
   "source": []
  },
  {
   "cell_type": "code",
   "execution_count": null,
   "id": "be88f610-8fec-4734-a144-eb35fca8e7b2",
   "metadata": {},
   "outputs": [],
   "source": []
  },
  {
   "cell_type": "code",
   "execution_count": null,
   "id": "6a96cf04-e821-4457-9d63-182840f26fdf",
   "metadata": {},
   "outputs": [],
   "source": []
  },
  {
   "cell_type": "code",
   "execution_count": null,
   "id": "dfba1e00-0083-4359-9c0e-8f049d556316",
   "metadata": {},
   "outputs": [],
   "source": []
  },
  {
   "cell_type": "code",
   "execution_count": null,
   "id": "35465dd8-7e01-473d-a7f5-b9e9fd67fcb5",
   "metadata": {},
   "outputs": [],
   "source": []
  },
  {
   "cell_type": "code",
   "execution_count": null,
   "id": "a2d82502-8869-441e-88d6-d7a4210542bf",
   "metadata": {},
   "outputs": [],
   "source": []
  },
  {
   "cell_type": "code",
   "execution_count": null,
   "id": "55361a1e-db66-4aed-b84f-3ef85887c8f6",
   "metadata": {},
   "outputs": [],
   "source": []
  },
  {
   "cell_type": "code",
   "execution_count": null,
   "id": "345309ae-9280-481f-bcdc-9eef0de68ef0",
   "metadata": {},
   "outputs": [],
   "source": []
  },
  {
   "cell_type": "code",
   "execution_count": null,
   "id": "f291bb8e-ef75-4500-bc3f-7cef118dfe21",
   "metadata": {},
   "outputs": [],
   "source": []
  },
  {
   "cell_type": "code",
   "execution_count": null,
   "id": "23996858-4ba0-4638-89d2-c691de4f78ea",
   "metadata": {},
   "outputs": [],
   "source": []
  },
  {
   "cell_type": "code",
   "execution_count": null,
   "id": "e6f29436-982d-45f2-844a-2541463727b8",
   "metadata": {},
   "outputs": [],
   "source": []
  },
  {
   "cell_type": "code",
   "execution_count": null,
   "id": "3def730e-5aed-4d85-ad78-ae9d8ac703ca",
   "metadata": {},
   "outputs": [],
   "source": []
  },
  {
   "cell_type": "code",
   "execution_count": null,
   "id": "9e6d0366-cb2d-477e-b33b-51f0302704fd",
   "metadata": {},
   "outputs": [],
   "source": []
  },
  {
   "cell_type": "code",
   "execution_count": null,
   "id": "80536943-c54d-4d97-9ebf-0ed1a469bc88",
   "metadata": {},
   "outputs": [],
   "source": []
  },
  {
   "cell_type": "code",
   "execution_count": null,
   "id": "03d951c8-9a24-4990-ab49-9b8804c00ead",
   "metadata": {},
   "outputs": [],
   "source": []
  },
  {
   "cell_type": "code",
   "execution_count": null,
   "id": "e452abb0-d866-4001-a5e7-3ce758fd0cf1",
   "metadata": {},
   "outputs": [],
   "source": []
  },
  {
   "cell_type": "code",
   "execution_count": null,
   "id": "b233f3c3-7032-4d26-aa3c-f214689de51f",
   "metadata": {},
   "outputs": [],
   "source": []
  },
  {
   "cell_type": "code",
   "execution_count": null,
   "id": "a83633cf-9df2-45b4-907a-e096c23201cc",
   "metadata": {},
   "outputs": [],
   "source": []
  },
  {
   "cell_type": "code",
   "execution_count": null,
   "id": "e9ff1a38-f56c-40da-89e6-83fc5aad7b29",
   "metadata": {},
   "outputs": [],
   "source": []
  },
  {
   "cell_type": "code",
   "execution_count": null,
   "id": "45b4025f-369d-457c-871a-b94c24f02853",
   "metadata": {},
   "outputs": [],
   "source": []
  },
  {
   "cell_type": "code",
   "execution_count": null,
   "id": "3aaa958e-dae1-41b1-8576-04704a7cd79b",
   "metadata": {},
   "outputs": [],
   "source": []
  },
  {
   "cell_type": "code",
   "execution_count": null,
   "id": "6bd9fb40-ecac-4ff6-b71a-d28ae550acca",
   "metadata": {},
   "outputs": [],
   "source": []
  },
  {
   "cell_type": "code",
   "execution_count": null,
   "id": "2ca7d207-3ce1-4dc9-b1d1-f3e2fed51787",
   "metadata": {},
   "outputs": [],
   "source": []
  },
  {
   "cell_type": "code",
   "execution_count": null,
   "id": "29707ff8-dc01-4274-a53e-35be6339f790",
   "metadata": {},
   "outputs": [],
   "source": []
  },
  {
   "cell_type": "code",
   "execution_count": null,
   "id": "d39602b4-7473-42ef-8b1d-822856a1d796",
   "metadata": {},
   "outputs": [],
   "source": []
  },
  {
   "cell_type": "code",
   "execution_count": null,
   "id": "2f3e31d8-c24d-4868-bd1f-0ee5b132b265",
   "metadata": {},
   "outputs": [],
   "source": []
  },
  {
   "cell_type": "code",
   "execution_count": null,
   "id": "ece2f8d3-52a3-4088-8b3c-bda71d9ac80e",
   "metadata": {},
   "outputs": [],
   "source": []
  },
  {
   "cell_type": "code",
   "execution_count": null,
   "id": "e1aab350-65ba-44db-bb4f-7363b4ab81e7",
   "metadata": {},
   "outputs": [],
   "source": []
  },
  {
   "cell_type": "code",
   "execution_count": null,
   "id": "3ecfea7f-fe19-4031-893c-7e8de04dd7a4",
   "metadata": {},
   "outputs": [],
   "source": []
  },
  {
   "cell_type": "code",
   "execution_count": null,
   "id": "01f4cc0d-45eb-459a-91bd-dcf96099abca",
   "metadata": {},
   "outputs": [],
   "source": []
  },
  {
   "cell_type": "code",
   "execution_count": null,
   "id": "271826e6-0679-4f2e-b832-860034327d3a",
   "metadata": {},
   "outputs": [],
   "source": []
  },
  {
   "cell_type": "code",
   "execution_count": null,
   "id": "6e9ffa07-5140-494e-b35c-70980ed9b9bc",
   "metadata": {},
   "outputs": [],
   "source": []
  },
  {
   "cell_type": "code",
   "execution_count": null,
   "id": "a442c654-ab35-42db-b539-946325554276",
   "metadata": {},
   "outputs": [],
   "source": []
  },
  {
   "cell_type": "code",
   "execution_count": null,
   "id": "bb0d24cc-17ed-4691-ae57-219c60ebdfd7",
   "metadata": {},
   "outputs": [],
   "source": []
  },
  {
   "cell_type": "code",
   "execution_count": null,
   "id": "6b714dc6-bac7-4d29-bc1f-f40ba6d68482",
   "metadata": {},
   "outputs": [],
   "source": []
  },
  {
   "cell_type": "code",
   "execution_count": null,
   "id": "6b78cc6b-1035-4c26-9a05-6e92b485f1ea",
   "metadata": {},
   "outputs": [],
   "source": []
  },
  {
   "cell_type": "code",
   "execution_count": null,
   "id": "e4693290-6f36-4d80-b279-70875811dd00",
   "metadata": {},
   "outputs": [],
   "source": []
  },
  {
   "cell_type": "code",
   "execution_count": null,
   "id": "b7e079d4-747d-4def-9829-c34016031a10",
   "metadata": {},
   "outputs": [],
   "source": []
  },
  {
   "cell_type": "code",
   "execution_count": null,
   "id": "487eb788-bb13-424a-a4ca-5b50e6b7ca84",
   "metadata": {},
   "outputs": [],
   "source": []
  },
  {
   "cell_type": "code",
   "execution_count": null,
   "id": "f4366044-7b17-439a-91a9-7d3bb768f793",
   "metadata": {},
   "outputs": [],
   "source": []
  },
  {
   "cell_type": "code",
   "execution_count": null,
   "id": "76f029fb-ce57-4b05-8295-bc174d16abe9",
   "metadata": {},
   "outputs": [],
   "source": []
  },
  {
   "cell_type": "code",
   "execution_count": null,
   "id": "9cd24850-0d82-4edc-8855-826866130532",
   "metadata": {},
   "outputs": [],
   "source": []
  },
  {
   "cell_type": "code",
   "execution_count": null,
   "id": "0a7f4430-ecc7-43e1-9d5c-d3a72563e47b",
   "metadata": {},
   "outputs": [],
   "source": []
  },
  {
   "cell_type": "code",
   "execution_count": null,
   "id": "de312f55-b8dd-4063-9241-ee50d6830191",
   "metadata": {},
   "outputs": [],
   "source": []
  },
  {
   "cell_type": "code",
   "execution_count": null,
   "id": "0261b5ac-7a03-4e44-ae14-0127c9023811",
   "metadata": {},
   "outputs": [],
   "source": []
  },
  {
   "cell_type": "code",
   "execution_count": null,
   "id": "a3431182-60e8-4773-a47a-ac313809cb46",
   "metadata": {},
   "outputs": [],
   "source": []
  },
  {
   "cell_type": "code",
   "execution_count": null,
   "id": "0cf29ce5-e134-4096-8a0b-d6cc9b607eab",
   "metadata": {},
   "outputs": [],
   "source": []
  },
  {
   "cell_type": "code",
   "execution_count": null,
   "id": "2f5d88e2-1fa3-451d-b752-e5e7280ec228",
   "metadata": {},
   "outputs": [],
   "source": []
  },
  {
   "cell_type": "code",
   "execution_count": null,
   "id": "7e1be658-4465-4639-ab45-5eec017646bf",
   "metadata": {},
   "outputs": [],
   "source": []
  },
  {
   "cell_type": "code",
   "execution_count": null,
   "id": "53752f1d-f40f-4a22-a2b3-77fe9319b505",
   "metadata": {},
   "outputs": [],
   "source": []
  },
  {
   "cell_type": "code",
   "execution_count": null,
   "id": "abc28b54-dc7e-4568-be11-b0aef4a7ad16",
   "metadata": {},
   "outputs": [],
   "source": []
  },
  {
   "cell_type": "code",
   "execution_count": null,
   "id": "4548b81d-8058-4fd4-9b9b-562a2a928a64",
   "metadata": {},
   "outputs": [],
   "source": []
  },
  {
   "cell_type": "code",
   "execution_count": null,
   "id": "e73bf0a8-4d86-45e3-b7e2-f0b667481986",
   "metadata": {},
   "outputs": [],
   "source": []
  },
  {
   "cell_type": "code",
   "execution_count": null,
   "id": "22ba2283-63fa-405e-882e-c330b523dc86",
   "metadata": {},
   "outputs": [],
   "source": []
  },
  {
   "cell_type": "code",
   "execution_count": null,
   "id": "edf007ff-36a9-4c5f-b4c6-7a6a0012015b",
   "metadata": {},
   "outputs": [],
   "source": []
  },
  {
   "cell_type": "code",
   "execution_count": null,
   "id": "54797812-492c-43dd-bcdf-22403305260c",
   "metadata": {},
   "outputs": [],
   "source": []
  },
  {
   "cell_type": "code",
   "execution_count": null,
   "id": "458fe6db-8f27-4f55-95a4-15d7fc087cfb",
   "metadata": {},
   "outputs": [],
   "source": []
  },
  {
   "cell_type": "code",
   "execution_count": null,
   "id": "0adfce5f-ecbf-4e03-98c6-b1561257208b",
   "metadata": {},
   "outputs": [],
   "source": []
  },
  {
   "cell_type": "code",
   "execution_count": null,
   "id": "aa4d3e6f-ea10-4e5b-bb72-326689f4d49e",
   "metadata": {},
   "outputs": [],
   "source": []
  },
  {
   "cell_type": "code",
   "execution_count": null,
   "id": "c196dd3b-5fa9-49b3-9016-23f939bb8ccb",
   "metadata": {},
   "outputs": [],
   "source": []
  },
  {
   "cell_type": "code",
   "execution_count": null,
   "id": "aeb8c4fb-6bd8-484c-ba99-8091620d4997",
   "metadata": {},
   "outputs": [],
   "source": []
  },
  {
   "cell_type": "code",
   "execution_count": null,
   "id": "93df7d53-140c-4d05-9ab9-421fe29fe3b2",
   "metadata": {},
   "outputs": [],
   "source": []
  },
  {
   "cell_type": "code",
   "execution_count": null,
   "id": "b6317ea2-a61c-45b7-b4ef-615eb4a5596e",
   "metadata": {},
   "outputs": [],
   "source": []
  },
  {
   "cell_type": "code",
   "execution_count": null,
   "id": "1c0d693d-ea50-456e-9aba-0e4026fee7f4",
   "metadata": {},
   "outputs": [],
   "source": []
  },
  {
   "cell_type": "code",
   "execution_count": null,
   "id": "538873cf-36d5-4382-bc87-152a9294a42e",
   "metadata": {},
   "outputs": [],
   "source": []
  },
  {
   "cell_type": "code",
   "execution_count": null,
   "id": "11d8099a-189e-49d5-9031-5e6e37c3651a",
   "metadata": {},
   "outputs": [],
   "source": []
  },
  {
   "cell_type": "code",
   "execution_count": null,
   "id": "78e54879-17a7-497f-932b-964364b5f75c",
   "metadata": {},
   "outputs": [],
   "source": []
  },
  {
   "cell_type": "code",
   "execution_count": null,
   "id": "e5d307f4-73d9-4f60-b653-81c8bd5f1ca0",
   "metadata": {},
   "outputs": [],
   "source": []
  },
  {
   "cell_type": "code",
   "execution_count": null,
   "id": "1359626b-bb22-4e59-8504-695f3206a7e1",
   "metadata": {},
   "outputs": [],
   "source": []
  },
  {
   "cell_type": "code",
   "execution_count": null,
   "id": "f1bff107-ceff-4a1b-8b5d-d64c203cd8de",
   "metadata": {},
   "outputs": [],
   "source": []
  },
  {
   "cell_type": "code",
   "execution_count": null,
   "id": "5ecc653e-d2da-43f4-a8e7-f02ff62b124f",
   "metadata": {},
   "outputs": [],
   "source": []
  },
  {
   "cell_type": "code",
   "execution_count": null,
   "id": "b18d5f84-0950-4762-8ec4-47f693e0f82d",
   "metadata": {},
   "outputs": [],
   "source": []
  },
  {
   "cell_type": "code",
   "execution_count": null,
   "id": "321795cb-1f98-490c-b871-aae90f1f3724",
   "metadata": {},
   "outputs": [],
   "source": []
  },
  {
   "cell_type": "code",
   "execution_count": null,
   "id": "b321e8f2-f3d3-4f93-be29-ba4da0c0e04d",
   "metadata": {},
   "outputs": [],
   "source": []
  },
  {
   "cell_type": "code",
   "execution_count": null,
   "id": "30bc4445-a29a-41f8-af32-1daaded28fc0",
   "metadata": {},
   "outputs": [],
   "source": []
  },
  {
   "cell_type": "code",
   "execution_count": null,
   "id": "83986eab-51d7-46cb-94f3-ddac48d54ecc",
   "metadata": {},
   "outputs": [],
   "source": []
  },
  {
   "cell_type": "code",
   "execution_count": null,
   "id": "244bdb4d-c038-4e4e-83a5-c0fce0879c82",
   "metadata": {},
   "outputs": [],
   "source": []
  },
  {
   "cell_type": "code",
   "execution_count": null,
   "id": "bfd43cfd-fb55-44b9-9012-1e51221ef0df",
   "metadata": {},
   "outputs": [],
   "source": []
  },
  {
   "cell_type": "code",
   "execution_count": null,
   "id": "58563565-befe-4e7d-a697-f18fbe80928e",
   "metadata": {},
   "outputs": [],
   "source": []
  },
  {
   "cell_type": "code",
   "execution_count": null,
   "id": "6f2da5a3-bfc1-4b82-b7df-18c3a796ffcc",
   "metadata": {},
   "outputs": [],
   "source": []
  },
  {
   "cell_type": "code",
   "execution_count": null,
   "id": "6b008cc6-e563-4ef8-b046-7ed0559beed3",
   "metadata": {},
   "outputs": [],
   "source": []
  },
  {
   "cell_type": "code",
   "execution_count": null,
   "id": "79b25a89-8114-46a8-8d45-76908cc85426",
   "metadata": {},
   "outputs": [],
   "source": []
  },
  {
   "cell_type": "code",
   "execution_count": null,
   "id": "211fa537-f1e3-4ee6-be24-ffe55ca3cdda",
   "metadata": {},
   "outputs": [],
   "source": []
  },
  {
   "cell_type": "code",
   "execution_count": null,
   "id": "ad814756-92d8-4e3f-9218-cd907d6fedec",
   "metadata": {},
   "outputs": [],
   "source": []
  },
  {
   "cell_type": "code",
   "execution_count": null,
   "id": "06c83035-752e-4ab4-a7ac-db73a793cfef",
   "metadata": {},
   "outputs": [],
   "source": []
  },
  {
   "cell_type": "code",
   "execution_count": null,
   "id": "8dbe4aa8-6dc4-4ec8-9f01-edcd9b9f7a3b",
   "metadata": {},
   "outputs": [],
   "source": []
  },
  {
   "cell_type": "code",
   "execution_count": null,
   "id": "e160223e-d05d-4fc3-8bb0-af5344d5aaf3",
   "metadata": {},
   "outputs": [],
   "source": []
  },
  {
   "cell_type": "code",
   "execution_count": null,
   "id": "e33e1b1f-8175-4c90-8c42-ccd056617a8a",
   "metadata": {},
   "outputs": [],
   "source": []
  },
  {
   "cell_type": "code",
   "execution_count": null,
   "id": "5ec30bdb-881d-4738-a382-d8f4e844a297",
   "metadata": {},
   "outputs": [],
   "source": []
  },
  {
   "cell_type": "code",
   "execution_count": null,
   "id": "53d0bcc7-5864-43c3-bd13-ee3fb1feb6e0",
   "metadata": {},
   "outputs": [],
   "source": []
  },
  {
   "cell_type": "code",
   "execution_count": null,
   "id": "8b344b56-7291-420a-b67f-36bb27b53de2",
   "metadata": {},
   "outputs": [],
   "source": []
  },
  {
   "cell_type": "code",
   "execution_count": null,
   "id": "331557af-4fa1-4a05-84cf-e2ec2761373b",
   "metadata": {},
   "outputs": [],
   "source": []
  },
  {
   "cell_type": "code",
   "execution_count": null,
   "id": "870b4bd0-86fe-4d40-9a74-bdabc94aa2bb",
   "metadata": {},
   "outputs": [],
   "source": []
  },
  {
   "cell_type": "code",
   "execution_count": null,
   "id": "512c72bf-b2ad-4944-b04b-da2ae4a8b28d",
   "metadata": {},
   "outputs": [],
   "source": []
  },
  {
   "cell_type": "code",
   "execution_count": null,
   "id": "f9faf6cf-bfb9-460c-ae35-b56315245237",
   "metadata": {},
   "outputs": [],
   "source": []
  },
  {
   "cell_type": "code",
   "execution_count": null,
   "id": "d165e836-6d10-4825-8f89-62de3bf628c5",
   "metadata": {},
   "outputs": [],
   "source": []
  },
  {
   "cell_type": "code",
   "execution_count": null,
   "id": "78b5738c-2565-47c6-a0a4-fbf49165bee6",
   "metadata": {},
   "outputs": [],
   "source": []
  },
  {
   "cell_type": "code",
   "execution_count": null,
   "id": "5fe91e84-7623-4f21-85ee-b6365865e3a0",
   "metadata": {},
   "outputs": [],
   "source": []
  },
  {
   "cell_type": "code",
   "execution_count": null,
   "id": "0ad4f0a7-7bd4-4ecf-a93e-e52284e24a28",
   "metadata": {},
   "outputs": [],
   "source": []
  },
  {
   "cell_type": "code",
   "execution_count": null,
   "id": "4b1ad606-e703-470a-86b1-53f8b1277134",
   "metadata": {},
   "outputs": [],
   "source": []
  },
  {
   "cell_type": "code",
   "execution_count": null,
   "id": "be92b0c8-3a11-4225-bb2e-8ceb8490439a",
   "metadata": {},
   "outputs": [],
   "source": []
  },
  {
   "cell_type": "code",
   "execution_count": null,
   "id": "d0f45551-2f1a-4c41-bb77-98f379a58c74",
   "metadata": {},
   "outputs": [],
   "source": []
  },
  {
   "cell_type": "code",
   "execution_count": null,
   "id": "3d1bb29e-27f4-4d5b-ba69-1439cca683f7",
   "metadata": {},
   "outputs": [],
   "source": []
  },
  {
   "cell_type": "code",
   "execution_count": null,
   "id": "1aebde47-1154-4160-9a49-79eb314fa17c",
   "metadata": {},
   "outputs": [],
   "source": []
  },
  {
   "cell_type": "code",
   "execution_count": null,
   "id": "915c0082-b9c7-4486-ae51-ea7eb62273d5",
   "metadata": {},
   "outputs": [],
   "source": []
  },
  {
   "cell_type": "code",
   "execution_count": null,
   "id": "9558fb95-5904-486c-b73b-afd44b05c125",
   "metadata": {},
   "outputs": [],
   "source": []
  },
  {
   "cell_type": "code",
   "execution_count": null,
   "id": "8cccc94e-2cef-414f-bd8f-366e7647121f",
   "metadata": {},
   "outputs": [],
   "source": []
  },
  {
   "cell_type": "code",
   "execution_count": null,
   "id": "5a5a058e-6454-4dc6-a4a9-c4a5fa8af766",
   "metadata": {},
   "outputs": [],
   "source": []
  },
  {
   "cell_type": "code",
   "execution_count": null,
   "id": "1e4c7846-1954-4ce7-b41c-fd2a781c5930",
   "metadata": {},
   "outputs": [],
   "source": []
  },
  {
   "cell_type": "code",
   "execution_count": null,
   "id": "4273f26c-d472-46b8-8d32-51ada08eb54c",
   "metadata": {},
   "outputs": [],
   "source": []
  },
  {
   "cell_type": "code",
   "execution_count": null,
   "id": "ac7e8130-c37d-4d83-b705-ee675d2486a5",
   "metadata": {},
   "outputs": [],
   "source": []
  },
  {
   "cell_type": "code",
   "execution_count": null,
   "id": "bd46e46c-56c2-46f7-9dc0-763d7991ef24",
   "metadata": {},
   "outputs": [],
   "source": []
  },
  {
   "cell_type": "code",
   "execution_count": null,
   "id": "2c7b2d60-90b5-4f5e-affd-f2ce1530820f",
   "metadata": {},
   "outputs": [],
   "source": []
  },
  {
   "cell_type": "code",
   "execution_count": null,
   "id": "75e00012-580e-4347-a5c9-58601fe6c267",
   "metadata": {},
   "outputs": [],
   "source": []
  },
  {
   "cell_type": "code",
   "execution_count": null,
   "id": "3efd9624-5a90-43b3-8833-558e37cfd7fc",
   "metadata": {},
   "outputs": [],
   "source": []
  },
  {
   "cell_type": "code",
   "execution_count": null,
   "id": "dbf0648f-e018-4c80-99a9-12ab7667f22b",
   "metadata": {},
   "outputs": [],
   "source": []
  },
  {
   "cell_type": "code",
   "execution_count": null,
   "id": "4c3dbcdc-6ec9-49b4-80e3-33afb5857f1f",
   "metadata": {},
   "outputs": [],
   "source": []
  },
  {
   "cell_type": "code",
   "execution_count": null,
   "id": "9270b147-f5d0-41d5-89ec-7b844390e3a3",
   "metadata": {},
   "outputs": [],
   "source": []
  },
  {
   "cell_type": "code",
   "execution_count": null,
   "id": "5f466460-5c08-4c59-ad0e-ad2da81f9aeb",
   "metadata": {},
   "outputs": [],
   "source": []
  },
  {
   "cell_type": "code",
   "execution_count": null,
   "id": "d1806879-ad0b-4a27-9b41-9d7e81350575",
   "metadata": {},
   "outputs": [],
   "source": []
  },
  {
   "cell_type": "code",
   "execution_count": null,
   "id": "0ad87cda-e9cf-4bb3-bebc-32e4c899bbfb",
   "metadata": {},
   "outputs": [],
   "source": []
  },
  {
   "cell_type": "code",
   "execution_count": null,
   "id": "b7367593-a42a-43d5-9d32-f2293e23bea5",
   "metadata": {},
   "outputs": [],
   "source": []
  },
  {
   "cell_type": "code",
   "execution_count": null,
   "id": "a06f8991-40b1-4450-9c7e-d7524b35a954",
   "metadata": {},
   "outputs": [],
   "source": []
  },
  {
   "cell_type": "code",
   "execution_count": null,
   "id": "c82463ac-0023-453d-ac63-d4c30e5aa8a4",
   "metadata": {},
   "outputs": [],
   "source": []
  },
  {
   "cell_type": "code",
   "execution_count": null,
   "id": "0bf9d5d6-c033-47f5-b4a0-42adfb738ace",
   "metadata": {},
   "outputs": [],
   "source": []
  },
  {
   "cell_type": "code",
   "execution_count": null,
   "id": "115efe25-fe93-4765-adab-c11e37a72b2e",
   "metadata": {},
   "outputs": [],
   "source": []
  },
  {
   "cell_type": "code",
   "execution_count": null,
   "id": "73387cfc-ea32-44d1-97b7-844188fbf0c1",
   "metadata": {},
   "outputs": [],
   "source": []
  },
  {
   "cell_type": "code",
   "execution_count": null,
   "id": "9f25e22a-aee3-4731-baee-99a278246519",
   "metadata": {},
   "outputs": [],
   "source": []
  },
  {
   "cell_type": "code",
   "execution_count": null,
   "id": "6dcc03ce-bd4f-44f0-a69e-1b84dcf49610",
   "metadata": {},
   "outputs": [],
   "source": []
  },
  {
   "cell_type": "code",
   "execution_count": null,
   "id": "a7c484a4-b57b-4b7c-8ad3-dd0d41886e1d",
   "metadata": {},
   "outputs": [],
   "source": []
  },
  {
   "cell_type": "code",
   "execution_count": null,
   "id": "a4e5fea9-80d7-4398-831b-b8fe4cf9d4d3",
   "metadata": {},
   "outputs": [],
   "source": []
  },
  {
   "cell_type": "code",
   "execution_count": null,
   "id": "34cf388e-023c-4317-8bd4-20632a6cffe7",
   "metadata": {},
   "outputs": [],
   "source": []
  },
  {
   "cell_type": "code",
   "execution_count": null,
   "id": "e87a05dd-f1d2-457b-8224-3e2b611386f9",
   "metadata": {},
   "outputs": [],
   "source": []
  },
  {
   "cell_type": "code",
   "execution_count": null,
   "id": "77d399ec-d6e9-483f-b942-219b53cfe9db",
   "metadata": {},
   "outputs": [],
   "source": []
  },
  {
   "cell_type": "code",
   "execution_count": null,
   "id": "70bb7622-352b-42d0-afdd-f93ab108081f",
   "metadata": {},
   "outputs": [],
   "source": []
  },
  {
   "cell_type": "code",
   "execution_count": null,
   "id": "57fb41f2-082d-45a7-9367-3eef37a8d6e1",
   "metadata": {},
   "outputs": [],
   "source": []
  },
  {
   "cell_type": "code",
   "execution_count": null,
   "id": "e6e886ba-82cc-48fb-8884-7e6e1cb7e253",
   "metadata": {},
   "outputs": [],
   "source": []
  },
  {
   "cell_type": "code",
   "execution_count": null,
   "id": "93310b40-c14e-4709-875c-4b1b3b36098a",
   "metadata": {},
   "outputs": [],
   "source": []
  },
  {
   "cell_type": "code",
   "execution_count": null,
   "id": "303995c4-6bde-4570-8296-97250da24c8d",
   "metadata": {},
   "outputs": [],
   "source": []
  },
  {
   "cell_type": "code",
   "execution_count": null,
   "id": "f6af4664-1b2d-429e-bad0-be38ebc8777e",
   "metadata": {},
   "outputs": [],
   "source": []
  },
  {
   "cell_type": "code",
   "execution_count": null,
   "id": "db3a39c9-929a-4a4d-bdbc-981babbefe42",
   "metadata": {},
   "outputs": [],
   "source": []
  },
  {
   "cell_type": "code",
   "execution_count": null,
   "id": "a9fedb74-785c-4a45-817b-2b946bbb5c70",
   "metadata": {},
   "outputs": [],
   "source": []
  },
  {
   "cell_type": "code",
   "execution_count": null,
   "id": "491e99bb-8c7c-4350-bb8e-19051028020b",
   "metadata": {},
   "outputs": [],
   "source": []
  },
  {
   "cell_type": "code",
   "execution_count": null,
   "id": "68530b15-0d7d-449a-b1ce-8dfebf51d4d8",
   "metadata": {},
   "outputs": [],
   "source": []
  },
  {
   "cell_type": "code",
   "execution_count": null,
   "id": "0cdbcf46-9165-4379-9dd9-5da414cf150c",
   "metadata": {},
   "outputs": [],
   "source": []
  },
  {
   "cell_type": "code",
   "execution_count": null,
   "id": "7042fe93-fa3c-45a2-9fe3-f8b225a03e7c",
   "metadata": {},
   "outputs": [],
   "source": []
  },
  {
   "cell_type": "code",
   "execution_count": null,
   "id": "0b85e8b6-8fe5-4f1e-a246-96aab9dc8a7a",
   "metadata": {},
   "outputs": [],
   "source": []
  },
  {
   "cell_type": "code",
   "execution_count": null,
   "id": "d599f7c1-564b-4266-9902-3e1ffd9017fb",
   "metadata": {},
   "outputs": [],
   "source": []
  },
  {
   "cell_type": "code",
   "execution_count": null,
   "id": "f043ee7c-5d3d-45bd-b431-4c2e7e570abb",
   "metadata": {},
   "outputs": [],
   "source": []
  },
  {
   "cell_type": "code",
   "execution_count": null,
   "id": "ec35e2ee-10a9-4177-af4f-0cfbe1fee27e",
   "metadata": {},
   "outputs": [],
   "source": []
  },
  {
   "cell_type": "code",
   "execution_count": null,
   "id": "eafbd649-3dac-4217-b590-6f68783f38ce",
   "metadata": {},
   "outputs": [],
   "source": []
  },
  {
   "cell_type": "code",
   "execution_count": null,
   "id": "3f336b51-21fb-46bf-a1ad-f01eab385528",
   "metadata": {},
   "outputs": [],
   "source": []
  },
  {
   "cell_type": "code",
   "execution_count": null,
   "id": "78b496b0-a18a-4d1e-bdd1-cbbcac931d5d",
   "metadata": {},
   "outputs": [],
   "source": []
  },
  {
   "cell_type": "code",
   "execution_count": null,
   "id": "588ac531-c94b-4823-84d1-82b1bbff1148",
   "metadata": {},
   "outputs": [],
   "source": []
  },
  {
   "cell_type": "code",
   "execution_count": null,
   "id": "42db7e70-34b8-45f6-97a7-1e7c93387d5c",
   "metadata": {},
   "outputs": [],
   "source": []
  },
  {
   "cell_type": "code",
   "execution_count": null,
   "id": "756a3cff-1761-46cd-999d-5971ad05dee9",
   "metadata": {},
   "outputs": [],
   "source": []
  },
  {
   "cell_type": "markdown",
   "id": "08eb1b92-c8aa-4fe6-afd9-485edefe9e48",
   "metadata": {},
   "source": []
  }
 ],
 "metadata": {
  "kernelspec": {
   "display_name": "Python 3 (ipykernel)",
   "language": "python",
   "name": "python3"
  },
  "language_info": {
   "codemirror_mode": {
    "name": "ipython",
    "version": 3
   },
   "file_extension": ".py",
   "mimetype": "text/x-python",
   "name": "python",
   "nbconvert_exporter": "python",
   "pygments_lexer": "ipython3",
   "version": "3.12.4"
  }
 },
 "nbformat": 4,
 "nbformat_minor": 5
}
